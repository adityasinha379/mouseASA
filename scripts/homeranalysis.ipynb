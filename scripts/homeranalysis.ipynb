{
 "cells": [
  {
   "cell_type": "code",
   "execution_count": 1,
   "id": "b4e9b129",
   "metadata": {},
   "outputs": [],
   "source": [
    "# General import, names of train, test, val\n",
    "import numpy as np\n",
    "import pysam\n",
    "from tqdm.notebook import tqdm\n",
    "import h5py\n",
    "import pandas as pd\n",
    "import matplotlib.pyplot as plt\n",
    "rng = np.random.default_rng(seed=0)\n",
    "\n",
    "basedir = '/data/leslie/shared/ASA/'\n",
    "ctype = 'cd8'\n",
    "\n",
    "aligndir = f'{basedir}pseudodiploid/cutrun/{ctype}/tbet/'\n",
    "datadir = f'{basedir}mouseASA/{ctype}/cast/data/cutrun/tbet/'\n",
    "chroms = [1,2,3,4,5,6,7,8,9,10,11,12,13,14,15,16,17,18,19]\n",
    "\n",
    "reps = ['r1','r2']\n",
    "seqlen = 300                         # region around summit for sequence\n",
    "save = True"
   ]
  },
  {
   "cell_type": "markdown",
   "id": "efa59d69",
   "metadata": {},
   "source": [
    "## Get CUT&RUN peaks FASTA for HOMER enrichment"
   ]
  },
  {
   "cell_type": "code",
   "execution_count": 78,
   "id": "ca3490e7",
   "metadata": {},
   "outputs": [
    {
     "data": {
      "text/html": [
       "<div>\n",
       "<style scoped>\n",
       "    .dataframe tbody tr th:only-of-type {\n",
       "        vertical-align: middle;\n",
       "    }\n",
       "\n",
       "    .dataframe tbody tr th {\n",
       "        vertical-align: top;\n",
       "    }\n",
       "\n",
       "    .dataframe thead th {\n",
       "        text-align: right;\n",
       "    }\n",
       "</style>\n",
       "<table border=\"1\" class=\"dataframe\">\n",
       "  <thead>\n",
       "    <tr style=\"text-align: right;\">\n",
       "      <th></th>\n",
       "      <th>0</th>\n",
       "      <th>1</th>\n",
       "      <th>2</th>\n",
       "    </tr>\n",
       "  </thead>\n",
       "  <tbody>\n",
       "    <tr>\n",
       "      <th>0</th>\n",
       "      <td>1</td>\n",
       "      <td>7088481</td>\n",
       "      <td>7089187</td>\n",
       "    </tr>\n",
       "    <tr>\n",
       "      <th>1</th>\n",
       "      <td>1</td>\n",
       "      <td>7397472</td>\n",
       "      <td>7398405</td>\n",
       "    </tr>\n",
       "    <tr>\n",
       "      <th>2</th>\n",
       "      <td>1</td>\n",
       "      <td>9700302</td>\n",
       "      <td>9700986</td>\n",
       "    </tr>\n",
       "    <tr>\n",
       "      <th>3</th>\n",
       "      <td>1</td>\n",
       "      <td>9943782</td>\n",
       "      <td>9944348</td>\n",
       "    </tr>\n",
       "    <tr>\n",
       "      <th>4</th>\n",
       "      <td>1</td>\n",
       "      <td>10037923</td>\n",
       "      <td>10038440</td>\n",
       "    </tr>\n",
       "  </tbody>\n",
       "</table>\n",
       "</div>"
      ],
      "text/plain": [
       "   0         1         2\n",
       "0  1   7088481   7089187\n",
       "1  1   7397472   7398405\n",
       "2  1   9700302   9700986\n",
       "3  1   9943782   9944348\n",
       "4  1  10037923  10038440"
      ]
     },
     "execution_count": 78,
     "metadata": {},
     "output_type": "execute_result"
    }
   ],
   "source": [
    "peaks = pd.read_csv(f'{aligndir}peaks/peakatlas.bed', sep='\\t', header=None)\n",
    "# filter peaks by IDR\n",
    "idr_thresh = 0.05\n",
    "idx = np.where(peaks[11]>-np.log10(idr_thresh))[0]\n",
    "peaks = peaks.iloc[idx,:].reset_index(drop=True)\n",
    "peaks = peaks.iloc[:,:3]\n",
    "peaks.head()"
   ]
  },
  {
   "cell_type": "code",
   "execution_count": 39,
   "id": "30222dff",
   "metadata": {},
   "outputs": [
    {
     "data": {
      "application/vnd.jupyter.widget-view+json": {
       "model_id": "fbc35f18e9a546edad9c53ac50bd87eb",
       "version_major": 2,
       "version_minor": 0
      },
      "text/plain": [
       "  0%|          | 0/19 [00:00<?, ?it/s]"
      ]
     },
     "metadata": {},
     "output_type": "display_data"
    }
   ],
   "source": [
    "# Get the b6 sequences corresponding to CUT&RUN peaks\n",
    "from Bio import SeqIO\n",
    "from bisect import bisect\n",
    "\n",
    "gen_b6 = SeqIO.index(f'{basedir}pseudodiploid/gen/b6.fa', 'fasta')\n",
    "\n",
    "x = []\n",
    "for c in tqdm(chroms):\n",
    "    seq_b6 = ''.join(gen_b6.get_raw(str(c)).decode().split('\\n')[1:])\n",
    "    chrompeaks = peaks.iloc[np.where(peaks[0]==c)[0],:]     # slice out the relevant chromosome peaks\n",
    "\n",
    "    # get relevant b6 genomic seqs\n",
    "    x += [seq_b6[l:r] for l,r in zip(chrompeaks[1],chrompeaks[2])]\n",
    "\n",
    "gen_b6.close()"
   ]
  },
  {
   "cell_type": "code",
   "execution_count": 45,
   "id": "95c5e280",
   "metadata": {},
   "outputs": [],
   "source": [
    "# Save the positive sequence\n",
    "with open(datadir+'homer/positives.fa', 'w') as f:\n",
    "    for i in range(len(x)):\n",
    "        f.write(f'>{str(i+1)}\\n')\n",
    "        f.write(x[i]+'\\n')"
   ]
  },
  {
   "cell_type": "markdown",
   "id": "0cb1f196",
   "metadata": {},
   "source": [
    "## Get negative background peaks"
   ]
  },
  {
   "cell_type": "code",
   "execution_count": 48,
   "id": "9f7c5642",
   "metadata": {},
   "outputs": [],
   "source": [
    "# for this, simply load x_b6_unegs from any of our datasets\n",
    "from utils import unhot\n",
    "with h5py.File(f'{basedir}mouseASA/{ctype}/cast/data/data_vi_150bp_aug.h5','r') as f:\n",
    "    x_neg = f['x_train_b6_unegs'][()]\n",
    "\n",
    "x_neg = x_neg[rng.choice(len(x_neg), len(x), replace=False)]\n",
    "x_neg = unhot(x_neg)"
   ]
  },
  {
   "cell_type": "code",
   "execution_count": 58,
   "id": "fb93b410",
   "metadata": {},
   "outputs": [],
   "source": [
    "# Save the negative sequences\n",
    "with open(datadir+'homer/negatives.fa', 'w') as f:\n",
    "    for i in range(len(x_neg)):\n",
    "        f.write(f'>{str(i+1)}\\n')\n",
    "        f.write(x_neg[i]+'\\n')"
   ]
  },
  {
   "cell_type": "markdown",
   "id": "4dc75347",
   "metadata": {},
   "source": [
    "## HOMER de novo motif analysis"
   ]
  },
  {
   "cell_type": "code",
   "execution_count": 69,
   "id": "a4eca5c4",
   "metadata": {},
   "outputs": [],
   "source": [
    "motifs = []\n",
    "with open(datadir+'homer/homermotifs.txt', 'r') as f:\n",
    "    for line in f:\n",
    "        if line[0]=='>':\n",
    "            motifs.append(line.split('\\t')[0][1:])"
   ]
  },
  {
   "cell_type": "code",
   "execution_count": 74,
   "id": "1c6c72a1",
   "metadata": {},
   "outputs": [
    {
     "name": "stdout",
     "output_type": "stream",
     "text": [
      "CGCGGCGCCG\n",
      "SCGCSCSGCS\n",
      "CCGGACGCGG\n",
      "VGTCGCGCGN\n",
      "VGCCMCGCSS\n",
      "CGCGCAGGCG\n",
      "NCCGCGGCGN\n",
      "CGGCAGCCGC\n",
      "CGTCACGTCG\n",
      "YCCCCGCCWS\n",
      "CGCGCCGGGT\n",
      "CTCGCGATCG\n",
      "ACGGACGTCG\n",
      "ACGGAGCCTA\n",
      "AGGGCGGGAA\n",
      "CGCGGTTCGA\n",
      "TGGGAGKTGT\n",
      "GCDGGGCCTC\n",
      "MAGGCTTCCT\n",
      "GGTTAGGGTT\n",
      "CAGACGGCAC\n",
      "TTGGCTGAAG\n",
      "CCTAACCCTA\n",
      "GATTGGCTGT\n",
      "RWAGGTGTGA\n"
     ]
    }
   ],
   "source": [
    "for motif in motifs:\n",
    "    print(motif)"
   ]
  }
 ],
 "metadata": {
  "kernelspec": {
   "display_name": "Python 3 (ipykernel)",
   "language": "python",
   "name": "python3"
  },
  "language_info": {
   "codemirror_mode": {
    "name": "ipython",
    "version": 3
   },
   "file_extension": ".py",
   "mimetype": "text/x-python",
   "name": "python",
   "nbconvert_exporter": "python",
   "pygments_lexer": "ipython3",
   "version": "3.8.3"
  }
 },
 "nbformat": 4,
 "nbformat_minor": 5
}
