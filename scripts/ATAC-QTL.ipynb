{
 "cells": [
  {
   "cell_type": "markdown",
   "metadata": {},
   "source": [
    "# Get QTL peaks"
   ]
  },
  {
   "cell_type": "code",
   "execution_count": 1,
   "metadata": {},
   "outputs": [],
   "source": [
    "%load_ext autoreload\n",
    "%autoreload 2\n",
    "\n",
    "import numpy as np\n",
    "import pandas as pd\n",
    "from Bio import SeqIO\n",
    "import re\n",
    "\n",
    "datadir = '/data/leslie/shared/ASA/mouseASA/scripts/human/'\n",
    "a = SeqIO.index(datadir+'Tcell_NG2018_major.fa','fasta')\n",
    "b = SeqIO.index(datadir+'Tcell_NG2018_minor.fa','fasta')\n",
    "ref = SeqIO.index(datadir+'hg19.fa','fasta')"
   ]
  },
  {
   "cell_type": "code",
   "execution_count": 2,
   "metadata": {},
   "outputs": [],
   "source": [
    "snv = [a[list(a)[i]].description.split(' ')[1] for i in range(len(a))]\n",
    "chrom = [a[list(a)[i]].id.split(':')[0] for i in range(len(a))]\n",
    "idx1 = [int(re.split(':|-',a[list(a)[i]].id)[1]) for i in range(len(a))]\n",
    "idx2 = [int(re.split(':|-',a[list(a)[i]].id)[2]) for i in range(len(a))]\n",
    "\n",
    "seq = {}\n",
    "for i in range(1,23):\n",
    "    seq['chr'+str(i)] = ''.join(ref.get_raw('chr'+str(i)).decode().split('\\n')[1:])\n",
    "\n",
    "peak_seq = []\n",
    "for i in range(len(a)):\n",
    "    peak_seq.append(''.join(seq[chrom[i]][idx1[i]:idx2[i]+1].upper()))\n",
    "    \n",
    "seqa = [a[list(a)[i]].seq for i in range(len(a))]\n",
    "seqb = [b[list(b)[i]].seq for i in range(len(b))]"
   ]
  },
  {
   "cell_type": "code",
   "execution_count": 3,
   "metadata": {},
   "outputs": [
    {
     "name": "stderr",
     "output_type": "stream",
     "text": [
      "/home/sinhaa2/anaconda3/lib/python3.8/site-packages/openpyxl/worksheet/_reader.py:312: UserWarning: Unknown extension is not supported and will be removed\n",
      "  warn(msg)\n"
     ]
    },
    {
     "data": {
      "text/html": [
       "<div>\n",
       "<style scoped>\n",
       "    .dataframe tbody tr th:only-of-type {\n",
       "        vertical-align: middle;\n",
       "    }\n",
       "\n",
       "    .dataframe tbody tr th {\n",
       "        vertical-align: top;\n",
       "    }\n",
       "\n",
       "    .dataframe thead th {\n",
       "        text-align: right;\n",
       "    }\n",
       "</style>\n",
       "<table border=\"1\" class=\"dataframe\">\n",
       "  <thead>\n",
       "    <tr style=\"text-align: right;\">\n",
       "      <th></th>\n",
       "      <th>SNP</th>\n",
       "      <th>beta</th>\n",
       "    </tr>\n",
       "  </thead>\n",
       "  <tbody>\n",
       "    <tr>\n",
       "      <th>0</th>\n",
       "      <td>chr19:47120381_rs11666367</td>\n",
       "      <td>0.417168</td>\n",
       "    </tr>\n",
       "    <tr>\n",
       "      <th>1</th>\n",
       "      <td>chr6:15745394_rs7768219</td>\n",
       "      <td>0.328784</td>\n",
       "    </tr>\n",
       "    <tr>\n",
       "      <th>2</th>\n",
       "      <td>chr11:96026842_rs476940</td>\n",
       "      <td>0.355090</td>\n",
       "    </tr>\n",
       "    <tr>\n",
       "      <th>3</th>\n",
       "      <td>chr2:112710828_rs4848901</td>\n",
       "      <td>0.394816</td>\n",
       "    </tr>\n",
       "    <tr>\n",
       "      <th>4</th>\n",
       "      <td>chr6:32806391_rs4148870</td>\n",
       "      <td>0.309390</td>\n",
       "    </tr>\n",
       "  </tbody>\n",
       "</table>\n",
       "</div>"
      ],
      "text/plain": [
       "                         SNP      beta\n",
       "0  chr19:47120381_rs11666367  0.417168\n",
       "1    chr6:15745394_rs7768219  0.328784\n",
       "2    chr11:96026842_rs476940  0.355090\n",
       "3   chr2:112710828_rs4848901  0.394816\n",
       "4    chr6:32806391_rs4148870  0.309390"
      ]
     },
     "execution_count": 3,
     "metadata": {},
     "output_type": "execute_result"
    }
   ],
   "source": [
    "qtl = pd.read_excel(pd.ExcelFile(datadir+'regev_natgen2018_41588_2018_156_MOESM8_ESM.xlsx'),'Sheet1')\n",
    "qtl = qtl.iloc[:,[0,3]]\n",
    "qtl_snv = [x.split('_')[1] for x in qtl['SNP']]\n",
    "idx = []\n",
    "for i in range(len(snv)):\n",
    "    if snv[i] in qtl_snv:\n",
    "        idx.append(qtl_snv.index(snv[i]))\n",
    "    else:\n",
    "        idx.append(-1)\n",
    "idx = np.array(idx)\n",
    "\n",
    "qtl = qtl.loc[idx[idx!=-1]].reset_index(drop=True)\n",
    "summits = [int(re.split(':|_',x)[1]) for x in qtl['SNP']]\n",
    "qtl.head()"
   ]
  },
  {
   "cell_type": "code",
   "execution_count": 4,
   "metadata": {},
   "outputs": [],
   "source": [
    "peak_minor = []\n",
    "peak_major = []\n",
    "mapping = dict(zip(['A','C','G','T','N'],[[1,0,0,0],[0,1,0,0],[0,0,1,0],[0,0,0,1],[0,0,0,0]]))\n",
    "for j,i in enumerate(np.where(idx!=-1)[0]):\n",
    "    variant = list(''.join(seq[chrom[i]][summits[j]-150:summits[j]+150].upper()))\n",
    "    peak_minor.append(np.asarray([mapping[x] for x in variant]))\n",
    "    variant[148] = seqa[i][12]\n",
    "    peak_major.append(np.asarray([mapping[x] for x in ''.join(variant)]))\n",
    "\n",
    "peak_major = np.asarray(peak_major)\n",
    "peak_minor = np.asarray(peak_minor)"
   ]
  },
  {
   "cell_type": "code",
   "execution_count": 5,
   "metadata": {},
   "outputs": [
    {
     "data": {
      "image/png": "[encoded data removed]",
      "text/plain": [
       "<Figure size 432x288 with 1 Axes>"
      ]
     },
     "metadata": {
      "needs_background": "light"
     },
     "output_type": "display_data"
    }
   ],
   "source": [
    "import matplotlib.pyplot as plt\n",
    "plt.hist(qtl['beta'],bins=50)\n",
    "plt.show()"
   ]
  },
  {
   "cell_type": "markdown",
   "metadata": {},
   "source": [
    "## CD8 to Human Transfer"
   ]
  },
  {
   "cell_type": "code",
   "execution_count": 27,
   "metadata": {},
   "outputs": [
    {
     "name": "stdout",
     "output_type": "stream",
     "text": [
      "/data/leslie/shared/ASA/mouseASA/ckpt_models/cd8/cd8_m3_both_1_32_vi_150bp.hdf5\n"
     ]
    }
   ],
   "source": [
    "import torch\n",
    "from model import alleleScan\n",
    "\n",
    "model = alleleScan(2, 0.2)\n",
    "DEVICE = 'cuda' if torch.cuda.is_available() else 'cpu'\n",
    "\n",
    "basedir = '/data/leslie/shared/ASA/'\n",
    "ctype = 'cd8'\n",
    "dataset = 'both'\n",
    "use_prior = '1'\n",
    "gc = ''\n",
    "modelname = 'm3'\n",
    "batchsize = '32'\n",
    "ident = '_vi_150bp'\n",
    "\n",
    "SAVEPATH = f'{basedir}mouseASA/ckpt_models/{ctype}/{ctype}_{modelname}_{dataset}_{use_prior}_{batchsize}{gc}{ident}.hdf5'\n",
    "print(SAVEPATH)\n",
    "model.load_state_dict(torch.load(SAVEPATH))\n",
    "model.to(DEVICE)\n",
    "model.eval()\n",
    "pred_maj = model(torch.from_numpy(peak_major).type(torch.FloatTensor).transpose(1,2).to(DEVICE)).detach().cpu().numpy()\n",
    "pred_min = model(torch.from_numpy(peak_minor).type(torch.FloatTensor).transpose(1,2).to(DEVICE)).detach().cpu().numpy()"
   ]
  },
  {
   "cell_type": "code",
   "execution_count": 32,
   "metadata": {},
   "outputs": [
    {
     "name": "stdout",
     "output_type": "stream",
     "text": [
      "/data/leslie/shared/ASA/mouseASA/ckpt_models/cd8/cd8_ad_both_1_16_vi_150bp_fc.hdf5\n"
     ]
    }
   ],
   "source": [
    "import torch\n",
    "from model import pairScan, pairScanWrapper\n",
    "\n",
    "model = pairScan(2, 0.2)\n",
    "DEVICE = 'cuda' if torch.cuda.is_available() else 'cpu'\n",
    "\n",
    "basedir = '/data/leslie/shared/ASA/'\n",
    "ctype = 'cd8'\n",
    "dataset = 'both'\n",
    "use_prior = '1'\n",
    "gc = ''\n",
    "modelname = 'ad'\n",
    "batchsize = '16'\n",
    "ident = '_vi_150bp'\n",
    "\n",
    "SAVEPATH = f'{basedir}mouseASA/ckpt_models/{ctype}/{ctype}_{modelname}_{dataset}_{use_prior}_{batchsize}{gc}{ident}_fc.hdf5'\n",
    "# SAVEPATH = f'{basedir}mouseASA/ckpt_models/{ctype}/test_11.hdf5'\n",
    "print(SAVEPATH)\n",
    "model.load_state_dict(torch.load(SAVEPATH))\n",
    "supermodel = pairScanWrapper(model)\n",
    "supermodel.to(DEVICE)\n",
    "supermodel.eval()\n",
    "temp = np.stack((peak_major, peak_minor), axis=1)\n",
    "preds = supermodel(torch.from_numpy(temp).type(torch.FloatTensor).transpose(2,3).to(DEVICE)).detach().cpu().numpy().reshape(-1,2)\n",
    "pred_maj = preds[:,0]\n",
    "pred_min = preds[:,1]\n"
   ]
  },
  {
   "cell_type": "code",
   "execution_count": 33,
   "metadata": {},
   "outputs": [
    {
     "name": "stderr",
     "output_type": "stream",
     "text": [
      "/scratch/lsftmp/17150640.tmpdir/ipykernel_32353/3161023118.py:9: UserWarning: No data for colormapping provided via 'c'. Parameters 'cmap' will be ignored\n",
      "  ax.scatter(pred_min, pred_maj,\n"
     ]
    },
    {
     "data": {
      "image/png": "[encoded data removed]",
      "text/plain": [
       "<Figure size 576x576 with 2 Axes>"
      ]
     },
     "metadata": {
      "needs_background": "light"
     },
     "output_type": "display_data"
    }
   ],
   "source": [
    "from mpl_toolkits.axes_grid1 import make_axes_locatable\n",
    "import matplotlib.pyplot as plt\n",
    "pred_fc = pred_maj-pred_min\n",
    "true_fc = qtl['beta']\n",
    "\n",
    "fig = plt.figure(figsize=(8,8))\n",
    "ax = fig.add_subplot()\n",
    "\n",
    "ax.scatter(pred_min, pred_maj,\n",
    "           cmap = 'bwr',s = 16, c = 'lavender')\n",
    "sc = ax.scatter(pred_min[abs(pred_fc)>0.1],\n",
    "           pred_maj[abs(pred_fc)>0.1],\n",
    "            vmax = np.max(qtl['beta']), vmin = np.min(qtl['beta']), cmap = 'bwr',s = 16,\n",
    "           c = true_fc[abs(pred_fc)>0.1])\n",
    "\n",
    "plt.title('CD8 prediction on ATAC-QTL ({} SNPs)'.format(len(qtl)))\n",
    "divider = make_axes_locatable(ax)\n",
    "cax = divider.append_axes('right', size=\"7%\", pad=0.2,)\n",
    "fig.colorbar(sc, cax=cax)\n",
    "ax.set_xlabel('Pred minor accessibility')\n",
    "ax.set_ylabel('Pred major accessibility')\n",
    "# ax.set_xlim([2.5,4.5])\n",
    "# ax.set_ylim([2.5,4.5])\n",
    "plt.ylabel('beta')\n",
    "plt.show()"
   ]
  }
 ],
 "metadata": {
  "kernelspec": {
   "display_name": "Python 3 (ipykernel)",
   "language": "python",
   "name": "python3"
  },
  "language_info": {
   "codemirror_mode": {
    "name": "ipython",
    "version": 3
   },
   "file_extension": ".py",
   "mimetype": "text/x-python",
   "name": "python",
   "nbconvert_exporter": "python",
   "pygments_lexer": "ipython3",
   "version": "3.8.3"
  }
 },
 "nbformat": 4,
 "nbformat_minor": 4
}
