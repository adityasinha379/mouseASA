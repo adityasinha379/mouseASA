{
 "cells": [
  {
   "cell_type": "markdown",
   "id": "a4696c79",
   "metadata": {},
   "source": [
    "I use this notebook for any testing and miscellaneous stuff while writing code. \\\n",
    "Of useful stuff this notebook has code for getting differential FIMO hits (ie. peaks where there is a motif hit in one allele and not in other) and for calculating and visualizing confidence weights"
   ]
  },
  {
   "cell_type": "code",
   "execution_count": 1,
   "id": "537408c8",
   "metadata": {},
   "outputs": [],
   "source": [
    "%load_ext autoreload\n",
    "%autoreload 2"
   ]
  },
  {
   "cell_type": "markdown",
   "id": "0d8dbd3b",
   "metadata": {},
   "source": [
    "# Random testing"
   ]
  },
  {
   "cell_type": "code",
   "execution_count": 2,
   "id": "0e8df73a",
   "metadata": {},
   "outputs": [
    {
     "name": "stdout",
     "output_type": "stream",
     "text": [
      "394950\n"
     ]
    }
   ],
   "source": [
    "import torch\n",
    "from model import pairScan\n",
    "model = pairScan(2,0.2)\n",
    "x = torch.zeros((2,2,4,300))\n",
    "_ = model(x)\n",
    "print(sum([p.numel() for p in model.parameters()]))"
   ]
  },
  {
   "cell_type": "code",
   "execution_count": 3,
   "id": "bc8a8022",
   "metadata": {},
   "outputs": [],
   "source": [
    "temp = dict()\n",
    "with h5py.File('/data/leslie/shared/ASA/mouseASA/cd8/data/data_vi_150bp.h5','r') as f:\n",
    "    temp['x_test_b6'] = f['x_test_b6'][()]\n",
    "    temp['x_test_cast'] = f['x_test_cast'][()]\n",
    "    temp['y_test_b6'] = f['y_test_b6'][()]\n",
    "    temp['y_test_cast'] = f['y_test_cast'][()]"
   ]
  },
  {
   "cell_type": "code",
   "execution_count": 4,
   "id": "292a27be",
   "metadata": {},
   "outputs": [
    {
     "name": "stdout",
     "output_type": "stream",
     "text": [
      "(3637, 300, 4)\n",
      "(3637, 300, 4)\n",
      "(3637,)\n",
      "(3637,)\n"
     ]
    }
   ],
   "source": [
    "for k in temp.keys():\n",
    "    print(temp[k].shape)"
   ]
  },
  {
   "cell_type": "code",
   "execution_count": 12,
   "id": "628b239d",
   "metadata": {},
   "outputs": [
    {
     "name": "stdout",
     "output_type": "stream",
     "text": [
      "<KeysViewHDF5 ['x_test_b6', 'x_test_cast', 'x_train_b6', 'x_train_b6_unegs', 'x_train_cast', 'x_train_cast_unegs', 'x_val_b6', 'x_val_b6_unegs', 'x_val_cast', 'x_val_cast_unegs', 'y_test_b6', 'y_test_cast', 'y_train_b6', 'y_train_cast', 'y_train_unegs', 'y_val_b6', 'y_val_cast', 'y_val_unegs']>\n"
     ]
    }
   ],
   "source": [
    "with h5py.File('/data/leslie/shared/ASA/mouseASA/cd8/data/data_vi_150bp_aug.h5','r') as f:\n",
    "    print(f.keys())"
   ]
  },
  {
   "cell_type": "code",
   "execution_count": 10,
   "id": "abb75e92",
   "metadata": {},
   "outputs": [
    {
     "data": {
      "text/plain": [
       "(3637, 300, 4)"
      ]
     },
     "execution_count": 10,
     "metadata": {},
     "output_type": "execute_result"
    }
   ],
   "source": [
    "temp['x_test_b6'].shape"
   ]
  },
  {
   "cell_type": "code",
   "execution_count": 14,
   "id": "ee433272",
   "metadata": {},
   "outputs": [
    {
     "name": "stdout",
     "output_type": "stream",
     "text": [
      "(3637, 300, 4)\n",
      "(3637,)\n"
     ]
    }
   ],
   "source": [
    "import h5py\n",
    "with h5py.File('/data/leslie/shared/ASA/mouseASA/cd8/data/data_vi_150bp_aug.h5','r') as f:\n",
    "    print(f['x_test_b6'][()].shape)\n",
    "    print(f['y_test_cast'][()].shape)"
   ]
  },
  {
   "cell_type": "code",
   "execution_count": 7,
   "id": "f3d8ac9c",
   "metadata": {},
   "outputs": [],
   "source": [
    "from run import load_data\n",
    "x = dict()\n",
    "y = dict()\n",
    "x['train'], x['val'], x['test'], y['train'], y['val'], y['test'] = load_data('cd8', 'both', '_vi_150bp')"
   ]
  },
  {
   "cell_type": "code",
   "execution_count": 6,
   "id": "5d9104b9",
   "metadata": {},
   "outputs": [
    {
     "name": "stdout",
     "output_type": "stream",
     "text": [
      "(33346, 2, 300, 4)\n",
      "(33346, 2)\n",
      "(5011, 2, 300, 4)\n",
      "(5011, 2)\n",
      "(7274, 2, 300, 4)\n",
      "(7274, 2)\n"
     ]
    }
   ],
   "source": [
    "for k in x.keys():\n",
    "    print(x[k].shape)\n",
    "    print(y[k].shape)"
   ]
  },
  {
   "cell_type": "code",
   "execution_count": 8,
   "id": "b3c00701",
   "metadata": {},
   "outputs": [
    {
     "name": "stdout",
     "output_type": "stream",
     "text": [
      "(51302, 2, 300, 4)\n",
      "(51302, 2)\n",
      "(7710, 2, 300, 4)\n",
      "(7710, 2)\n",
      "(7274, 2, 300, 4)\n",
      "(7274, 2)\n"
     ]
    }
   ],
   "source": [
    "for k in x.keys():\n",
    "    print(x[k].shape)\n",
    "    print(y[k].shape)"
   ]
  },
  {
   "cell_type": "markdown",
   "id": "66888dbb",
   "metadata": {},
   "source": [
    "## Differential FIMO hit loci"
   ]
  },
  {
   "cell_type": "code",
   "execution_count": 2,
   "id": "b4584822",
   "metadata": {},
   "outputs": [],
   "source": [
    "import pandas as pd\n",
    "import numpy as np\n",
    "path = '/data/leslie/shared/ASA/mouseASA/cd8/data/fimo/'\n",
    "df_b6 = pd.read_csv(path+'fimo_b6_train.tsv', sep='\\t').iloc[:-3,:]\n",
    "df_ca = pd.read_csv(path+'fimo_ca_train.tsv', sep='\\t').iloc[:-3,:]\n",
    "# get unique entries (exclusive-or) in both dataframes\n",
    "temp1 = set(df_b6['sequence_name'])\n",
    "temp2 = set(df_ca['sequence_name'])\n",
    "temp = list(temp1.union(temp2) - temp1.intersection(temp2))\n",
    "# get allele-specific motif hits\n",
    "df_b6 = df_b6[df_b6['sequence_name'].isin(temp)].reset_index(drop=True)\n",
    "df_ca = df_ca[df_ca['sequence_name'].isin(temp)].reset_index(drop=True)"
   ]
  },
  {
   "cell_type": "code",
   "execution_count": 10,
   "id": "a6ffd045",
   "metadata": {},
   "outputs": [
    {
     "data": {
      "text/html": [
       "<div>\n",
       "<style scoped>\n",
       "    .dataframe tbody tr th:only-of-type {\n",
       "        vertical-align: middle;\n",
       "    }\n",
       "\n",
       "    .dataframe tbody tr th {\n",
       "        vertical-align: top;\n",
       "    }\n",
       "\n",
       "    .dataframe thead th {\n",
       "        text-align: right;\n",
       "    }\n",
       "</style>\n",
       "<table border=\"1\" class=\"dataframe\">\n",
       "  <thead>\n",
       "    <tr style=\"text-align: right;\">\n",
       "      <th></th>\n",
       "      <th>chr</th>\n",
       "      <th>summit</th>\n",
       "      <th>diff</th>\n",
       "      <th>b6</th>\n",
       "      <th>ca</th>\n",
       "    </tr>\n",
       "  </thead>\n",
       "  <tbody>\n",
       "    <tr>\n",
       "      <th>0</th>\n",
       "      <td>17</td>\n",
       "      <td>70963761</td>\n",
       "      <td>225</td>\n",
       "      <td>25</td>\n",
       "      <td>250</td>\n",
       "    </tr>\n",
       "    <tr>\n",
       "      <th>1</th>\n",
       "      <td>2</td>\n",
       "      <td>5379287</td>\n",
       "      <td>190</td>\n",
       "      <td>6</td>\n",
       "      <td>196</td>\n",
       "    </tr>\n",
       "    <tr>\n",
       "      <th>2</th>\n",
       "      <td>7</td>\n",
       "      <td>130834538</td>\n",
       "      <td>150</td>\n",
       "      <td>5</td>\n",
       "      <td>155</td>\n",
       "    </tr>\n",
       "    <tr>\n",
       "      <th>3</th>\n",
       "      <td>9</td>\n",
       "      <td>110281308</td>\n",
       "      <td>110</td>\n",
       "      <td>4</td>\n",
       "      <td>114</td>\n",
       "    </tr>\n",
       "    <tr>\n",
       "      <th>4</th>\n",
       "      <td>2</td>\n",
       "      <td>69380492</td>\n",
       "      <td>108</td>\n",
       "      <td>110</td>\n",
       "      <td>2</td>\n",
       "    </tr>\n",
       "    <tr>\n",
       "      <th>5</th>\n",
       "      <td>18</td>\n",
       "      <td>85698032</td>\n",
       "      <td>108</td>\n",
       "      <td>6</td>\n",
       "      <td>114</td>\n",
       "    </tr>\n",
       "    <tr>\n",
       "      <th>6</th>\n",
       "      <td>8</td>\n",
       "      <td>3754448</td>\n",
       "      <td>96</td>\n",
       "      <td>8</td>\n",
       "      <td>104</td>\n",
       "    </tr>\n",
       "    <tr>\n",
       "      <th>7</th>\n",
       "      <td>9</td>\n",
       "      <td>108144752</td>\n",
       "      <td>75</td>\n",
       "      <td>7</td>\n",
       "      <td>82</td>\n",
       "    </tr>\n",
       "    <tr>\n",
       "      <th>8</th>\n",
       "      <td>5</td>\n",
       "      <td>137857059</td>\n",
       "      <td>73</td>\n",
       "      <td>76</td>\n",
       "      <td>3</td>\n",
       "    </tr>\n",
       "    <tr>\n",
       "      <th>9</th>\n",
       "      <td>15</td>\n",
       "      <td>86195220</td>\n",
       "      <td>71</td>\n",
       "      <td>3</td>\n",
       "      <td>74</td>\n",
       "    </tr>\n",
       "    <tr>\n",
       "      <th>10</th>\n",
       "      <td>2</td>\n",
       "      <td>25148068</td>\n",
       "      <td>53</td>\n",
       "      <td>56</td>\n",
       "      <td>3</td>\n",
       "    </tr>\n",
       "    <tr>\n",
       "      <th>11</th>\n",
       "      <td>6</td>\n",
       "      <td>4398707</td>\n",
       "      <td>53</td>\n",
       "      <td>5</td>\n",
       "      <td>58</td>\n",
       "    </tr>\n",
       "    <tr>\n",
       "      <th>12</th>\n",
       "      <td>11</td>\n",
       "      <td>116136481</td>\n",
       "      <td>52</td>\n",
       "      <td>56</td>\n",
       "      <td>4</td>\n",
       "    </tr>\n",
       "    <tr>\n",
       "      <th>13</th>\n",
       "      <td>8</td>\n",
       "      <td>86838925</td>\n",
       "      <td>48</td>\n",
       "      <td>51</td>\n",
       "      <td>3</td>\n",
       "    </tr>\n",
       "    <tr>\n",
       "      <th>14</th>\n",
       "      <td>19</td>\n",
       "      <td>53699992</td>\n",
       "      <td>45</td>\n",
       "      <td>2</td>\n",
       "      <td>47</td>\n",
       "    </tr>\n",
       "    <tr>\n",
       "      <th>15</th>\n",
       "      <td>13</td>\n",
       "      <td>112578243</td>\n",
       "      <td>44</td>\n",
       "      <td>45</td>\n",
       "      <td>1</td>\n",
       "    </tr>\n",
       "    <tr>\n",
       "      <th>16</th>\n",
       "      <td>11</td>\n",
       "      <td>78571259</td>\n",
       "      <td>42</td>\n",
       "      <td>0</td>\n",
       "      <td>42</td>\n",
       "    </tr>\n",
       "    <tr>\n",
       "      <th>17</th>\n",
       "      <td>6</td>\n",
       "      <td>87395066</td>\n",
       "      <td>39</td>\n",
       "      <td>3</td>\n",
       "      <td>42</td>\n",
       "    </tr>\n",
       "    <tr>\n",
       "      <th>18</th>\n",
       "      <td>12</td>\n",
       "      <td>28727365</td>\n",
       "      <td>38</td>\n",
       "      <td>0</td>\n",
       "      <td>38</td>\n",
       "    </tr>\n",
       "    <tr>\n",
       "      <th>19</th>\n",
       "      <td>17</td>\n",
       "      <td>84226465</td>\n",
       "      <td>37</td>\n",
       "      <td>39</td>\n",
       "      <td>2</td>\n",
       "    </tr>\n",
       "  </tbody>\n",
       "</table>\n",
       "</div>"
      ],
      "text/plain": [
       "    chr     summit  diff   b6   ca\n",
       "0    17   70963761   225   25  250\n",
       "1     2    5379287   190    6  196\n",
       "2     7  130834538   150    5  155\n",
       "3     9  110281308   110    4  114\n",
       "4     2   69380492   108  110    2\n",
       "5    18   85698032   108    6  114\n",
       "6     8    3754448    96    8  104\n",
       "7     9  108144752    75    7   82\n",
       "8     5  137857059    73   76    3\n",
       "9    15   86195220    71    3   74\n",
       "10    2   25148068    53   56    3\n",
       "11    6    4398707    53    5   58\n",
       "12   11  116136481    52   56    4\n",
       "13    8   86838925    48   51    3\n",
       "14   19   53699992    45    2   47\n",
       "15   13  112578243    44   45    1\n",
       "16   11   78571259    42    0   42\n",
       "17    6   87395066    39    3   42\n",
       "18   12   28727365    38    0   38\n",
       "19   17   84226465    37   39    2"
      ]
     },
     "execution_count": 10,
     "metadata": {},
     "output_type": "execute_result"
    }
   ],
   "source": [
    "datadir='/data/leslie/shared/ASA/mouseASA/cd8/data/'\n",
    "summits = pd.read_csv(datadir+'cutrun/tbet/summits_tbetfiltered.csv')\n",
    "summits.head(20)"
   ]
  },
  {
   "cell_type": "code",
   "execution_count": 25,
   "id": "d3f5be28",
   "metadata": {},
   "outputs": [],
   "source": [
    "i=0\n",
    "hits_b6 = []\n",
    "hits_ca = []\n",
    "for i in range(len(summits)):\n",
    "    chrom, pos = summits.iloc[i,:2]\n",
    "    hits_b6.append(np.where(df_b6['sequence_name']==f'{chrom}:{pos}')[0])\n",
    "    hits_ca.append(np.where(df_ca['sequence_name']==f'{chrom}:{pos}')[0])\n",
    "#     print(np.where(df_b6['sequence_name']==f'{chrom}:{pos}')[0])\n",
    "#     print(np.where(df_ca['sequence_name']==f'{chrom}:{pos}')[0])"
   ]
  },
  {
   "cell_type": "code",
   "execution_count": 44,
   "id": "d5602201",
   "metadata": {},
   "outputs": [
    {
     "data": {
      "text/plain": [
       "array([36])"
      ]
     },
     "execution_count": 44,
     "metadata": {},
     "output_type": "execute_result"
    }
   ],
   "source": [
    "np.where(df_b6['sequence_name']=='8:86838925')[0]"
   ]
  },
  {
   "cell_type": "code",
   "execution_count": 30,
   "id": "62b6eb87",
   "metadata": {},
   "outputs": [
    {
     "data": {
      "text/plain": [
       "[array([], dtype=int64),\n",
       " array([], dtype=int64),\n",
       " array([], dtype=int64),\n",
       " array([], dtype=int64),\n",
       " array([], dtype=int64),\n",
       " array([], dtype=int64),\n",
       " array([], dtype=int64),\n",
       " array([], dtype=int64),\n",
       " array([], dtype=int64),\n",
       " array([], dtype=int64),\n",
       " array([], dtype=int64),\n",
       " array([], dtype=int64),\n",
       " array([], dtype=int64),\n",
       " array([36]),\n",
       " array([], dtype=int64),\n",
       " array([], dtype=int64),\n",
       " array([], dtype=int64),\n",
       " array([], dtype=int64),\n",
       " array([], dtype=int64),\n",
       " array([], dtype=int64),\n",
       " array([], dtype=int64),\n",
       " array([], dtype=int64),\n",
       " array([], dtype=int64),\n",
       " array([], dtype=int64),\n",
       " array([], dtype=int64),\n",
       " array([], dtype=int64),\n",
       " array([], dtype=int64),\n",
       " array([], dtype=int64),\n",
       " array([106]),\n",
       " array([], dtype=int64),\n",
       " array([], dtype=int64),\n",
       " array([117]),\n",
       " array([], dtype=int64),\n",
       " array([], dtype=int64),\n",
       " array([], dtype=int64),\n",
       " array([], dtype=int64),\n",
       " array([], dtype=int64),\n",
       " array([], dtype=int64),\n",
       " array([], dtype=int64),\n",
       " array([], dtype=int64),\n",
       " array([], dtype=int64),\n",
       " array([], dtype=int64),\n",
       " array([], dtype=int64),\n",
       " array([], dtype=int64),\n",
       " array([], dtype=int64),\n",
       " array([], dtype=int64),\n",
       " array([], dtype=int64),\n",
       " array([], dtype=int64),\n",
       " array([], dtype=int64),\n",
       " array([], dtype=int64)]"
      ]
     },
     "execution_count": 30,
     "metadata": {},
     "output_type": "execute_result"
    }
   ],
   "source": [
    "hits_b6[:50]"
   ]
  },
  {
   "cell_type": "code",
   "execution_count": 31,
   "id": "1d9f79da",
   "metadata": {},
   "outputs": [
    {
     "data": {
      "text/plain": [
       "[array([], dtype=int64),\n",
       " array([], dtype=int64),\n",
       " array([], dtype=int64),\n",
       " array([], dtype=int64),\n",
       " array([], dtype=int64),\n",
       " array([], dtype=int64),\n",
       " array([], dtype=int64),\n",
       " array([], dtype=int64),\n",
       " array([], dtype=int64),\n",
       " array([], dtype=int64),\n",
       " array([], dtype=int64),\n",
       " array([], dtype=int64),\n",
       " array([], dtype=int64),\n",
       " array([], dtype=int64),\n",
       " array([0]),\n",
       " array([], dtype=int64),\n",
       " array([28]),\n",
       " array([], dtype=int64),\n",
       " array([], dtype=int64),\n",
       " array([], dtype=int64),\n",
       " array([], dtype=int64),\n",
       " array([], dtype=int64),\n",
       " array([], dtype=int64),\n",
       " array([], dtype=int64),\n",
       " array([], dtype=int64),\n",
       " array([], dtype=int64),\n",
       " array([], dtype=int64),\n",
       " array([], dtype=int64),\n",
       " array([], dtype=int64),\n",
       " array([], dtype=int64),\n",
       " array([], dtype=int64),\n",
       " array([], dtype=int64),\n",
       " array([], dtype=int64),\n",
       " array([], dtype=int64),\n",
       " array([], dtype=int64),\n",
       " array([], dtype=int64),\n",
       " array([], dtype=int64),\n",
       " array([], dtype=int64),\n",
       " array([], dtype=int64),\n",
       " array([], dtype=int64),\n",
       " array([], dtype=int64),\n",
       " array([], dtype=int64),\n",
       " array([], dtype=int64),\n",
       " array([], dtype=int64),\n",
       " array([], dtype=int64),\n",
       " array([], dtype=int64),\n",
       " array([], dtype=int64),\n",
       " array([], dtype=int64),\n",
       " array([], dtype=int64),\n",
       " array([], dtype=int64)]"
      ]
     },
     "execution_count": 31,
     "metadata": {},
     "output_type": "execute_result"
    }
   ],
   "source": [
    "hits_ca[:50]"
   ]
  },
  {
   "cell_type": "code",
   "execution_count": 45,
   "id": "a56f0b2e",
   "metadata": {},
   "outputs": [
    {
     "data": {
      "text/plain": [
       "motif_id                      1\n",
       "motif_alt_id         ADGTGWSAHN\n",
       "sequence_name       19:53699992\n",
       "start                     193.0\n",
       "stop                      202.0\n",
       "strand                        -\n",
       "score                   13.4364\n",
       "p-value                0.000001\n",
       "q-value                   0.298\n",
       "matched_sequence     AGGTGTGAAA\n",
       "Name: 0, dtype: object"
      ]
     },
     "execution_count": 45,
     "metadata": {},
     "output_type": "execute_result"
    }
   ],
   "source": [
    "df_ca.iloc[0]"
   ]
  },
  {
   "cell_type": "code",
   "execution_count": 3,
   "id": "5f752985",
   "metadata": {},
   "outputs": [
    {
     "data": {
      "text/html": [
       "<div>\n",
       "<style scoped>\n",
       "    .dataframe tbody tr th:only-of-type {\n",
       "        vertical-align: middle;\n",
       "    }\n",
       "\n",
       "    .dataframe tbody tr th {\n",
       "        vertical-align: top;\n",
       "    }\n",
       "\n",
       "    .dataframe thead th {\n",
       "        text-align: right;\n",
       "    }\n",
       "</style>\n",
       "<table border=\"1\" class=\"dataframe\">\n",
       "  <thead>\n",
       "    <tr style=\"text-align: right;\">\n",
       "      <th></th>\n",
       "      <th>motif_id</th>\n",
       "      <th>motif_alt_id</th>\n",
       "      <th>sequence_name</th>\n",
       "      <th>start</th>\n",
       "      <th>stop</th>\n",
       "      <th>strand</th>\n",
       "      <th>score</th>\n",
       "      <th>p-value</th>\n",
       "      <th>q-value</th>\n",
       "      <th>matched_sequence</th>\n",
       "    </tr>\n",
       "  </thead>\n",
       "  <tbody>\n",
       "    <tr>\n",
       "      <th>0</th>\n",
       "      <td>1</td>\n",
       "      <td>ADGTGWSAHN</td>\n",
       "      <td>16:96907974</td>\n",
       "      <td>200.0</td>\n",
       "      <td>209.0</td>\n",
       "      <td>+</td>\n",
       "      <td>13.4364</td>\n",
       "      <td>0.000001</td>\n",
       "      <td>0.310</td>\n",
       "      <td>AGGTGTGAAA</td>\n",
       "    </tr>\n",
       "    <tr>\n",
       "      <th>1</th>\n",
       "      <td>1</td>\n",
       "      <td>ADGTGWSAHN</td>\n",
       "      <td>12:4065711</td>\n",
       "      <td>195.0</td>\n",
       "      <td>204.0</td>\n",
       "      <td>-</td>\n",
       "      <td>13.1273</td>\n",
       "      <td>0.000002</td>\n",
       "      <td>0.310</td>\n",
       "      <td>AGGTGTGAAC</td>\n",
       "    </tr>\n",
       "    <tr>\n",
       "      <th>2</th>\n",
       "      <td>1</td>\n",
       "      <td>ADGTGWSAHN</td>\n",
       "      <td>6:50525776</td>\n",
       "      <td>21.0</td>\n",
       "      <td>30.0</td>\n",
       "      <td>+</td>\n",
       "      <td>12.7394</td>\n",
       "      <td>0.000005</td>\n",
       "      <td>0.339</td>\n",
       "      <td>AGGTGTCAAA</td>\n",
       "    </tr>\n",
       "    <tr>\n",
       "      <th>3</th>\n",
       "      <td>1</td>\n",
       "      <td>ADGTGWSAHN</td>\n",
       "      <td>8:116636144</td>\n",
       "      <td>242.0</td>\n",
       "      <td>251.0</td>\n",
       "      <td>+</td>\n",
       "      <td>12.7394</td>\n",
       "      <td>0.000005</td>\n",
       "      <td>0.339</td>\n",
       "      <td>AGGTGTCAAA</td>\n",
       "    </tr>\n",
       "    <tr>\n",
       "      <th>4</th>\n",
       "      <td>1</td>\n",
       "      <td>ADGTGWSAHN</td>\n",
       "      <td>1:138290204</td>\n",
       "      <td>54.0</td>\n",
       "      <td>63.0</td>\n",
       "      <td>-</td>\n",
       "      <td>12.7212</td>\n",
       "      <td>0.000006</td>\n",
       "      <td>0.339</td>\n",
       "      <td>AGGTGTGAAG</td>\n",
       "    </tr>\n",
       "    <tr>\n",
       "      <th>...</th>\n",
       "      <td>...</td>\n",
       "      <td>...</td>\n",
       "      <td>...</td>\n",
       "      <td>...</td>\n",
       "      <td>...</td>\n",
       "      <td>...</td>\n",
       "      <td>...</td>\n",
       "      <td>...</td>\n",
       "      <td>...</td>\n",
       "      <td>...</td>\n",
       "    </tr>\n",
       "    <tr>\n",
       "      <th>123</th>\n",
       "      <td>1</td>\n",
       "      <td>ADGTGWSAHN</td>\n",
       "      <td>1:165775783</td>\n",
       "      <td>280.0</td>\n",
       "      <td>289.0</td>\n",
       "      <td>-</td>\n",
       "      <td>10.4121</td>\n",
       "      <td>0.000094</td>\n",
       "      <td>0.574</td>\n",
       "      <td>ATGTGAGAAA</td>\n",
       "    </tr>\n",
       "    <tr>\n",
       "      <th>124</th>\n",
       "      <td>1</td>\n",
       "      <td>ADGTGWSAHN</td>\n",
       "      <td>6:30357936</td>\n",
       "      <td>4.0</td>\n",
       "      <td>13.0</td>\n",
       "      <td>+</td>\n",
       "      <td>10.4000</td>\n",
       "      <td>0.000096</td>\n",
       "      <td>0.581</td>\n",
       "      <td>AAGTGAGACA</td>\n",
       "    </tr>\n",
       "    <tr>\n",
       "      <th>125</th>\n",
       "      <td>1</td>\n",
       "      <td>ADGTGWSAHN</td>\n",
       "      <td>7:125635632</td>\n",
       "      <td>25.0</td>\n",
       "      <td>34.0</td>\n",
       "      <td>+</td>\n",
       "      <td>10.4000</td>\n",
       "      <td>0.000096</td>\n",
       "      <td>0.581</td>\n",
       "      <td>AAGTGAGACA</td>\n",
       "    </tr>\n",
       "    <tr>\n",
       "      <th>126</th>\n",
       "      <td>1</td>\n",
       "      <td>ADGTGWSAHN</td>\n",
       "      <td>2:77946312</td>\n",
       "      <td>122.0</td>\n",
       "      <td>131.0</td>\n",
       "      <td>-</td>\n",
       "      <td>10.3515</td>\n",
       "      <td>0.000099</td>\n",
       "      <td>0.590</td>\n",
       "      <td>AGGTGTTACT</td>\n",
       "    </tr>\n",
       "    <tr>\n",
       "      <th>127</th>\n",
       "      <td>1</td>\n",
       "      <td>ADGTGWSAHN</td>\n",
       "      <td>6:8735259</td>\n",
       "      <td>225.0</td>\n",
       "      <td>234.0</td>\n",
       "      <td>+</td>\n",
       "      <td>10.3515</td>\n",
       "      <td>0.000099</td>\n",
       "      <td>0.590</td>\n",
       "      <td>AGGTGTTACT</td>\n",
       "    </tr>\n",
       "  </tbody>\n",
       "</table>\n",
       "<p>128 rows × 10 columns</p>\n",
       "</div>"
      ],
      "text/plain": [
       "    motif_id motif_alt_id sequence_name  start   stop strand    score  \\\n",
       "0          1   ADGTGWSAHN   16:96907974  200.0  209.0      +  13.4364   \n",
       "1          1   ADGTGWSAHN    12:4065711  195.0  204.0      -  13.1273   \n",
       "2          1   ADGTGWSAHN    6:50525776   21.0   30.0      +  12.7394   \n",
       "3          1   ADGTGWSAHN   8:116636144  242.0  251.0      +  12.7394   \n",
       "4          1   ADGTGWSAHN   1:138290204   54.0   63.0      -  12.7212   \n",
       "..       ...          ...           ...    ...    ...    ...      ...   \n",
       "123        1   ADGTGWSAHN   1:165775783  280.0  289.0      -  10.4121   \n",
       "124        1   ADGTGWSAHN    6:30357936    4.0   13.0      +  10.4000   \n",
       "125        1   ADGTGWSAHN   7:125635632   25.0   34.0      +  10.4000   \n",
       "126        1   ADGTGWSAHN    2:77946312  122.0  131.0      -  10.3515   \n",
       "127        1   ADGTGWSAHN     6:8735259  225.0  234.0      +  10.3515   \n",
       "\n",
       "      p-value  q-value matched_sequence  \n",
       "0    0.000001    0.310       AGGTGTGAAA  \n",
       "1    0.000002    0.310       AGGTGTGAAC  \n",
       "2    0.000005    0.339       AGGTGTCAAA  \n",
       "3    0.000005    0.339       AGGTGTCAAA  \n",
       "4    0.000006    0.339       AGGTGTGAAG  \n",
       "..        ...      ...              ...  \n",
       "123  0.000094    0.574       ATGTGAGAAA  \n",
       "124  0.000096    0.581       AAGTGAGACA  \n",
       "125  0.000096    0.581       AAGTGAGACA  \n",
       "126  0.000099    0.590       AGGTGTTACT  \n",
       "127  0.000099    0.590       AGGTGTTACT  \n",
       "\n",
       "[128 rows x 10 columns]"
      ]
     },
     "execution_count": 3,
     "metadata": {},
     "output_type": "execute_result"
    }
   ],
   "source": [
    "df_b6"
   ]
  },
  {
   "cell_type": "code",
   "execution_count": 4,
   "id": "ef8fbfef",
   "metadata": {},
   "outputs": [
    {
     "data": {
      "text/html": [
       "<div>\n",
       "<style scoped>\n",
       "    .dataframe tbody tr th:only-of-type {\n",
       "        vertical-align: middle;\n",
       "    }\n",
       "\n",
       "    .dataframe tbody tr th {\n",
       "        vertical-align: top;\n",
       "    }\n",
       "\n",
       "    .dataframe thead th {\n",
       "        text-align: right;\n",
       "    }\n",
       "</style>\n",
       "<table border=\"1\" class=\"dataframe\">\n",
       "  <thead>\n",
       "    <tr style=\"text-align: right;\">\n",
       "      <th></th>\n",
       "      <th>motif_id</th>\n",
       "      <th>motif_alt_id</th>\n",
       "      <th>sequence_name</th>\n",
       "      <th>start</th>\n",
       "      <th>stop</th>\n",
       "      <th>strand</th>\n",
       "      <th>score</th>\n",
       "      <th>p-value</th>\n",
       "      <th>q-value</th>\n",
       "      <th>matched_sequence</th>\n",
       "    </tr>\n",
       "  </thead>\n",
       "  <tbody>\n",
       "    <tr>\n",
       "      <th>0</th>\n",
       "      <td>1</td>\n",
       "      <td>ADGTGWSAHN</td>\n",
       "      <td>19:53699992</td>\n",
       "      <td>193.0</td>\n",
       "      <td>202.0</td>\n",
       "      <td>-</td>\n",
       "      <td>13.4364</td>\n",
       "      <td>0.000001</td>\n",
       "      <td>0.298</td>\n",
       "      <td>AGGTGTGAAA</td>\n",
       "    </tr>\n",
       "    <tr>\n",
       "      <th>1</th>\n",
       "      <td>1</td>\n",
       "      <td>ADGTGWSAHN</td>\n",
       "      <td>8:34615181</td>\n",
       "      <td>262.0</td>\n",
       "      <td>271.0</td>\n",
       "      <td>-</td>\n",
       "      <td>13.4364</td>\n",
       "      <td>0.000001</td>\n",
       "      <td>0.298</td>\n",
       "      <td>AGGTGTGAAA</td>\n",
       "    </tr>\n",
       "    <tr>\n",
       "      <th>2</th>\n",
       "      <td>1</td>\n",
       "      <td>ADGTGWSAHN</td>\n",
       "      <td>11:70988318</td>\n",
       "      <td>135.0</td>\n",
       "      <td>144.0</td>\n",
       "      <td>+</td>\n",
       "      <td>13.1273</td>\n",
       "      <td>0.000002</td>\n",
       "      <td>0.298</td>\n",
       "      <td>AGGTGTGAAC</td>\n",
       "    </tr>\n",
       "    <tr>\n",
       "      <th>3</th>\n",
       "      <td>1</td>\n",
       "      <td>ADGTGWSAHN</td>\n",
       "      <td>4:48034522</td>\n",
       "      <td>151.0</td>\n",
       "      <td>160.0</td>\n",
       "      <td>+</td>\n",
       "      <td>13.1273</td>\n",
       "      <td>0.000002</td>\n",
       "      <td>0.298</td>\n",
       "      <td>AGGTGTGAAC</td>\n",
       "    </tr>\n",
       "    <tr>\n",
       "      <th>4</th>\n",
       "      <td>1</td>\n",
       "      <td>ADGTGWSAHN</td>\n",
       "      <td>9:78010942</td>\n",
       "      <td>63.0</td>\n",
       "      <td>72.0</td>\n",
       "      <td>+</td>\n",
       "      <td>13.0788</td>\n",
       "      <td>0.000003</td>\n",
       "      <td>0.309</td>\n",
       "      <td>AGGTGTGACA</td>\n",
       "    </tr>\n",
       "    <tr>\n",
       "      <th>...</th>\n",
       "      <td>...</td>\n",
       "      <td>...</td>\n",
       "      <td>...</td>\n",
       "      <td>...</td>\n",
       "      <td>...</td>\n",
       "      <td>...</td>\n",
       "      <td>...</td>\n",
       "      <td>...</td>\n",
       "      <td>...</td>\n",
       "      <td>...</td>\n",
       "    </tr>\n",
       "    <tr>\n",
       "      <th>114</th>\n",
       "      <td>1</td>\n",
       "      <td>ADGTGWSAHN</td>\n",
       "      <td>9:108284570</td>\n",
       "      <td>160.0</td>\n",
       "      <td>169.0</td>\n",
       "      <td>-</td>\n",
       "      <td>10.4061</td>\n",
       "      <td>0.000095</td>\n",
       "      <td>0.582</td>\n",
       "      <td>AGGTGTTATA</td>\n",
       "    </tr>\n",
       "    <tr>\n",
       "      <th>115</th>\n",
       "      <td>1</td>\n",
       "      <td>ADGTGWSAHN</td>\n",
       "      <td>1:128675812</td>\n",
       "      <td>27.0</td>\n",
       "      <td>36.0</td>\n",
       "      <td>-</td>\n",
       "      <td>10.3879</td>\n",
       "      <td>0.000097</td>\n",
       "      <td>0.586</td>\n",
       "      <td>ATGTGTCAAG</td>\n",
       "    </tr>\n",
       "    <tr>\n",
       "      <th>116</th>\n",
       "      <td>1</td>\n",
       "      <td>ADGTGWSAHN</td>\n",
       "      <td>14:47358096</td>\n",
       "      <td>86.0</td>\n",
       "      <td>95.0</td>\n",
       "      <td>-</td>\n",
       "      <td>10.3879</td>\n",
       "      <td>0.000097</td>\n",
       "      <td>0.586</td>\n",
       "      <td>ATGTGTCAAG</td>\n",
       "    </tr>\n",
       "    <tr>\n",
       "      <th>117</th>\n",
       "      <td>1</td>\n",
       "      <td>ADGTGWSAHN</td>\n",
       "      <td>1:153709608</td>\n",
       "      <td>158.0</td>\n",
       "      <td>167.0</td>\n",
       "      <td>+</td>\n",
       "      <td>10.3758</td>\n",
       "      <td>0.000098</td>\n",
       "      <td>0.589</td>\n",
       "      <td>AAGTGTCACG</td>\n",
       "    </tr>\n",
       "    <tr>\n",
       "      <th>118</th>\n",
       "      <td>1</td>\n",
       "      <td>ADGTGWSAHN</td>\n",
       "      <td>17:23535276</td>\n",
       "      <td>185.0</td>\n",
       "      <td>194.0</td>\n",
       "      <td>-</td>\n",
       "      <td>10.3515</td>\n",
       "      <td>0.000099</td>\n",
       "      <td>0.592</td>\n",
       "      <td>AGGTGTTACT</td>\n",
       "    </tr>\n",
       "  </tbody>\n",
       "</table>\n",
       "<p>119 rows × 10 columns</p>\n",
       "</div>"
      ],
      "text/plain": [
       "    motif_id motif_alt_id sequence_name  start   stop strand    score  \\\n",
       "0          1   ADGTGWSAHN   19:53699992  193.0  202.0      -  13.4364   \n",
       "1          1   ADGTGWSAHN    8:34615181  262.0  271.0      -  13.4364   \n",
       "2          1   ADGTGWSAHN   11:70988318  135.0  144.0      +  13.1273   \n",
       "3          1   ADGTGWSAHN    4:48034522  151.0  160.0      +  13.1273   \n",
       "4          1   ADGTGWSAHN    9:78010942   63.0   72.0      +  13.0788   \n",
       "..       ...          ...           ...    ...    ...    ...      ...   \n",
       "114        1   ADGTGWSAHN   9:108284570  160.0  169.0      -  10.4061   \n",
       "115        1   ADGTGWSAHN   1:128675812   27.0   36.0      -  10.3879   \n",
       "116        1   ADGTGWSAHN   14:47358096   86.0   95.0      -  10.3879   \n",
       "117        1   ADGTGWSAHN   1:153709608  158.0  167.0      +  10.3758   \n",
       "118        1   ADGTGWSAHN   17:23535276  185.0  194.0      -  10.3515   \n",
       "\n",
       "      p-value  q-value matched_sequence  \n",
       "0    0.000001    0.298       AGGTGTGAAA  \n",
       "1    0.000001    0.298       AGGTGTGAAA  \n",
       "2    0.000002    0.298       AGGTGTGAAC  \n",
       "3    0.000002    0.298       AGGTGTGAAC  \n",
       "4    0.000003    0.309       AGGTGTGACA  \n",
       "..        ...      ...              ...  \n",
       "114  0.000095    0.582       AGGTGTTATA  \n",
       "115  0.000097    0.586       ATGTGTCAAG  \n",
       "116  0.000097    0.586       ATGTGTCAAG  \n",
       "117  0.000098    0.589       AAGTGTCACG  \n",
       "118  0.000099    0.592       AGGTGTTACT  \n",
       "\n",
       "[119 rows x 10 columns]"
      ]
     },
     "execution_count": 4,
     "metadata": {},
     "output_type": "execute_result"
    }
   ],
   "source": [
    "df_ca"
   ]
  },
  {
   "cell_type": "markdown",
   "id": "6a62aab0",
   "metadata": {},
   "source": [
    "## Confidence Weights"
   ]
  },
  {
   "cell_type": "code",
   "execution_count": 181,
   "id": "287085f0",
   "metadata": {},
   "outputs": [
    {
     "data": {
      "image/png": "[encoded data removed]",
      "text/plain": [
       "<Figure size 432x288 with 1 Axes>"
      ]
     },
     "metadata": {
      "needs_background": "light"
     },
     "output_type": "display_data"
    }
   ],
   "source": [
    "import matplotlib.pyplot as plt\n",
    "import numpy as np\n",
    "from scipy.stats import zscore\n",
    "\n",
    "def get_confweights():\n",
    "    train_sig_path = '/data/leslie/shared/ASA/mouseASA/cd8/data/significance/betabinom_result_combCounts_150bp_trainOnly.csv'\n",
    "    pvals = pd.read_csv(train_sig_path)['p.adj']\n",
    "    zscores = zscore(-np.log10(pvals+1e-5))\n",
    "    zscores += abs(min(zscores))\n",
    "    return zscores\n",
    "\n",
    "plt.hist(get_confweights(), bins=50)\n",
    "plt.show()"
   ]
  },
  {
   "cell_type": "code",
   "execution_count": 184,
   "id": "163f4b0e",
   "metadata": {},
   "outputs": [
    {
     "data": {
      "text/plain": [
       "7366"
      ]
     },
     "execution_count": 184,
     "metadata": {},
     "output_type": "execute_result"
    }
   ],
   "source": [
    "temp = get_confweights()\n",
    "len(temp[temp>0.5])"
   ]
  },
  {
   "cell_type": "code",
   "execution_count": 178,
   "id": "f9440175",
   "metadata": {},
   "outputs": [
    {
     "data": {
      "text/plain": [
       "array([0.00000000e+000, 6.65177193e-305, 6.52593435e-275, ...,\n",
       "       9.99914748e-001, 9.99958408e-001, 1.00000000e+000])"
      ]
     },
     "execution_count": 178,
     "metadata": {},
     "output_type": "execute_result"
    }
   ],
   "source": [
    "np.unique(np.sort(temp))"
   ]
  },
  {
   "cell_type": "code",
   "execution_count": 154,
   "id": "0e33f8db",
   "metadata": {},
   "outputs": [],
   "source": [
    "train_sig_path = '/data/leslie/shared/ASA/mouseASA/cd8/data/significance/betabinom_result_combCounts_150bp_trainOnly.csv'\n",
    "pvals = pd.read_csv(train_sig_path)['p.adj']"
   ]
  },
  {
   "cell_type": "code",
   "execution_count": 157,
   "id": "9e368f33",
   "metadata": {},
   "outputs": [
    {
     "data": {
      "text/plain": [
       "5951"
      ]
     },
     "execution_count": 157,
     "metadata": {},
     "output_type": "execute_result"
    }
   ],
   "source": [
    "len(pvals[pvals<0.05])"
   ]
  },
  {
   "cell_type": "code",
   "execution_count": 152,
   "id": "47edfc37",
   "metadata": {},
   "outputs": [
    {
     "data": {
      "image/png": "[encoded data removed]",
      "text/plain": [
       "<Figure size 432x288 with 1 Axes>"
      ]
     },
     "metadata": {
      "needs_background": "light"
     },
     "output_type": "display_data"
    }
   ],
   "source": [
    "plt.hist(get_betabin_zscores(), bins=50)\n",
    "plt.show()"
   ]
  }
 ],
 "metadata": {
  "kernelspec": {
   "display_name": "Python 3 (ipykernel)",
   "language": "python",
   "name": "python3"
  },
  "language_info": {
   "codemirror_mode": {
    "name": "ipython",
    "version": 3
   },
   "file_extension": ".py",
   "mimetype": "text/x-python",
   "name": "python",
   "nbconvert_exporter": "python",
   "pygments_lexer": "ipython3",
   "version": "3.10.9"
  }
 },
 "nbformat": 4,
 "nbformat_minor": 5
}
