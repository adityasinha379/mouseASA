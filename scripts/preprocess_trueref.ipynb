{
 "cells": [
  {
   "cell_type": "markdown",
   "id": "38017591",
   "metadata": {},
   "source": [
    "Code for preprocessing trueref data \\\n",
    "Starting from the aligned pseudodiploid bams, we separate them out into wA 0,1,2 \\\n",
    "Then we get allele specific coverage and sequences accordingly \\\n",
    "We save this temporary result in a data_noGC_trueref.h5 and then perform GC regression on it \\\n",
    "NOTE: This script only generates data_ident_trueref.h5 (only trueref)"
   ]
  },
  {
   "cell_type": "code",
   "execution_count": 100,
   "id": "45b1e31f",
   "metadata": {},
   "outputs": [
    {
     "name": "stdout",
     "output_type": "stream",
     "text": [
      "The autoreload extension is already loaded. To reload it, use:\n",
      "  %reload_ext autoreload\n"
     ]
    }
   ],
   "source": [
    "# General import, names of train, test, val\n",
    "%load_ext autoreload\n",
    "%autoreload 2\n",
    "import numpy as np\n",
    "import pysam\n",
    "from tqdm.notebook import tqdm\n",
    "import h5py\n",
    "import pandas as pd\n",
    "import matplotlib.pyplot as plt\n",
    "rng = np.random.default_rng(seed=0)\n",
    "\n",
    "basedir = '/data/leslie/shared/ASA/'\n",
    "aligndir = f'{basedir}pseudodiploid/atac/'\n",
    "ctype = 'treg'\n",
    "ident = '_vi_150bp'      # ident is '' for you or whatever label you want to use for the h5 data you've generated\n",
    "\n",
    "datadir = f'{basedir}mouseASA/{ctype}/cast/data/'\n",
    "chrom_train = [1,2,4,6,7,8,9,11,12,13,14,16,17,18,19]\n",
    "chrom_val = [3,5]\n",
    "chrom_test = [10,15]\n",
    "chroms = [chrom_train, chrom_val, chrom_test]\n",
    "name = ['train', 'val', 'test']\n",
    "\n",
    "reps = ['r1','r2','r3','r4']\n",
    "seqlen = 300                         # region around summit for sequence\n",
    "seqlen1 = 150                        # region around summit for coverage\n",
    "save = True"
   ]
  },
  {
   "cell_type": "markdown",
   "id": "1b511207",
   "metadata": {},
   "source": [
    "# Preprocessing of Model Input"
   ]
  },
  {
   "cell_type": "code",
   "execution_count": 101,
   "id": "2c3f3db3",
   "metadata": {},
   "outputs": [],
   "source": [
    "# The bamfile for the standard haploid B6 alignment is called <rep>_ref.bam, which is a little confusing, sorry..\n",
    "from utils import get_summits, get_shifts, one_hot, GCregress\n",
    "\n",
    "N = []\n",
    "for rep in reps:\n",
    "    bamfile = datadir+'bam/'+rep+'_ref.bam'\n",
    "    bamf = pysam.AlignmentFile(bamfile, \"rb\")\n",
    "    N.append( sum([bamf.get_index_statistics()[i][1] for i in range(len(chrom_train+chrom_test+chrom_val))]) )\n",
    "    bamf.close()"
   ]
  },
  {
   "cell_type": "code",
   "execution_count": 102,
   "id": "df3c7751",
   "metadata": {},
   "outputs": [],
   "source": [
    "# process peakatlas file to get peaks dataframe\n",
    "if ident[:3]=='_vi':  # This is us using a peak atlas, you would be using the else clause here\n",
    "    summits = pd.read_csv(aligndir+'cd8_old/yi_cd8_peaks_33143.csv',sep=',',index_col=0)\n",
    "    summits['start'] += seqlen//2\n",
    "    summits = summits.iloc[:,1:3]\n",
    "    summits.columns = range(2)\n",
    "    summits_neg = pd.read_csv(aligndir+'cd8_old/yi_cd8_uneg_peaks_33143.csv',sep=',',index_col=0)\n",
    "    summits_neg['start'] += seqlen//2\n",
    "    summits_neg = summits_neg.iloc[:,1:3].reset_index(drop=True)\n",
    "    summits_neg.columns = range(2)\n",
    "else:\n",
    "    if ident=='_yi':\n",
    "        peakfile = aligndir+'cd8_old/peaks_yi.bed'\n",
    "    else:\n",
    "        peakfile = aligndir+ctype+'/peaks/peakatlas.bed'\n",
    "    peaks = pd.read_csv(peakfile, sep='\\t', header=None)\n",
    "\n",
    "    if not ident:\n",
    "        # filter peaks based on IDR threshold (column 12 of BED)\n",
    "        idr_thresh = 0.05\n",
    "        idx = np.where( peaks.iloc[:,11] >= -np.log10(idr_thresh) )[0]\n",
    "        peaks = peaks.loc[idx].reset_index(drop=True)\n",
    "\n",
    "    # remove blacklist regions - try with and without\n",
    "    blacklistfile = aligndir+'mm10-blacklist.v2.bed'\n",
    "    blacklist = pd.read_csv(blacklistfile, sep='\\t', header=None)\n",
    "    peaks = remove_blacklist(peaks, blacklist)\n",
    "\n",
    "    # get summits of called + flanking neg peaks\n",
    "    summits, summits_neg = get_summits(peaks)"
   ]
  },
  {
   "cell_type": "code",
   "execution_count": 103,
   "id": "007078f6",
   "metadata": {},
   "outputs": [],
   "source": [
    "# # Code to shortlist negative flanking summits to low accessibility - not needed if you are doing background unegs\n",
    "# # Shit code, haven't used in forever, might need overhauling\n",
    "# if ident[:3]!='_vi':\n",
    "#     FOR UNEGS, get the shortlist of summits_neg that have low accessibility\n",
    "#     get indices for each rep\n",
    "#     idx = dict()\n",
    "#     for rep in tqdm(reps):\n",
    "#         bamfile = aligndir+ctype+'/'+rep+'.combined.rmDup.Aligned.sortedByCoord.out.bam'\n",
    "#         bamf = pysam.AlignmentFile(bamfile, \"rb\")\n",
    "\n",
    "#         idx[rep] = []\n",
    "#         for chrom in chroms[:2]:\n",
    "#             for c in chrom:\n",
    "#                 chromsummits = summits_neg.loc[np.where(summits_neg[0]==c)[0]]\n",
    "#                 y_uneg = []\n",
    "#                 for i in chromsummits[1]:\n",
    "#                     y_uneg.append(bamf.count(str(c),i-seqlen//2,i+seqlen//2))\n",
    "#                 idx[rep] += list(chromsummits.index[ np.where(np.array(y_uneg)<5)[0] ])\n",
    "#         bamf.close()\n",
    "\n",
    "#     del y_uneg\n",
    "#     # get low accessibility indices across reps\n",
    "#     temp = set(idx[reps[0]])\n",
    "#     for rep in reps[1:]:\n",
    "#         temp.intersection_update(idx[rep])\n",
    "#     idx = list(temp)\n",
    "\n",
    "#     # shortlist unegs to low accessibility indexes\n",
    "#     summits_neg = summits_neg.loc[idx].reset_index(drop=True)\n",
    "#     frac=0.5\n",
    "#     if len(summits_neg) > frac*len(summits):\n",
    "#         idx = np.random.choice(len(summits_neg), int(frac*len(summits)), replace=False)\n",
    "#         summits_neg = summits_neg.loc[idx].reset_index(drop=True)\n",
    "#     summits_neg = summits_neg.sort_values(by=[0,1], ignore_index=True)\n",
    "\n",
    "#     if save:\n",
    "#         summits.to_csv(datadir+'summits'+ident+'.csv', index=False, header=False)\n",
    "#         summits_neg.to_csv(datadir+'summits_neg'+ident+'.csv', index=False, header=False)"
   ]
  },
  {
   "cell_type": "code",
   "execution_count": 104,
   "id": "6541691f",
   "metadata": {},
   "outputs": [],
   "source": [
    "# Augment the list of positive summits in train and val by randomly adding seqlen//3 shifts (100bp)\n",
    "augment = True      # for augmentation of data by shifting sequence window\n",
    "\n",
    "if augment:\n",
    "    ident += '_aug'\n",
    "    frac = 1.0\n",
    "    # Randomly shift all the summits by + or - seqlen//3\n",
    "    summits_aug = summits.copy()\n",
    "    summits_aug = summits[summits[0].isin(chrom_train+chrom_val)].reset_index(drop=True)\n",
    "    shifts = seqlen//3 * rng.choice([-1,1], len(summits_aug), replace=True)\n",
    "    summits_aug[1] += shifts\n",
    "    # Get total number of summits to be augmented\n",
    "    temp = np.unique(summits[0], return_counts=True)\n",
    "    num_aug = int(frac*sum(temp[1][np.isin(temp[0],chrom_train+chrom_val)]))\n",
    "    # randomly choose the subset of summits to be augmented\n",
    "    idx = rng.choice(np.arange(len(summits_aug)), num_aug, replace=False)\n",
    "    summits_aug = summits_aug.iloc[idx, :].reset_index(drop=True)\n",
    "    summits = pd.concat((summits, summits_aug)).reset_index(drop=True)"
   ]
  },
  {
   "cell_type": "code",
   "execution_count": 105,
   "id": "742832f4",
   "metadata": {},
   "outputs": [
    {
     "data": {
      "application/vnd.jupyter.widget-view+json": {
       "model_id": "a044648f4ab54e3bb328f8b42c572080",
       "version_major": 2,
       "version_minor": 0
      },
      "text/plain": [
       "  0%|          | 0/4 [00:00<?, ?it/s]"
      ]
     },
     "metadata": {},
     "output_type": "display_data"
    }
   ],
   "source": [
    "# Generate y\n",
    "# Use summits and BAM files to generate pileup summed accessibilities\n",
    "y = dict()\n",
    "for rep in tqdm(reps):\n",
    "    temp = pysam.AlignmentFile(datadir+'bam/'+rep+'_ref.bam', 'rb')\n",
    "    \n",
    "    for n,chrom in zip(name,chroms):\n",
    "        y[rep+'_'+n] = []\n",
    "\n",
    "        for c in chrom:        # for each chromosome in train/val/test set\n",
    "            chromsummits = summits.iloc[np.where(summits[0]==c)[0],1]     # slice out the relevant chromosome summits\n",
    "            y1 = []\n",
    "            for i in chromsummits:\n",
    "                # for each summit peak, get the summed accessibility from BAM pileup\n",
    "                y1.append(temp.count(str(c),i-seqlen1//2,i+seqlen1//2))\n",
    "            y[rep+'_'+n] += y1\n",
    "    temp.close()\n",
    "    \n",
    "del y1, chromsummits\n",
    "\n",
    "# merge RPMs across reps\n",
    "for n in name:\n",
    "    y[n] = np.zeros_like(y[rep+'_'+n], dtype=float)\n",
    "    for i,rep in enumerate(reps):\n",
    "        y[n] += np.array(y[rep+'_'+n])*1e6/N[i]\n",
    "        del y[rep+'_'+n]\n",
    "    y[n] = np.log2(1+y[n])"
   ]
  },
  {
   "cell_type": "code",
   "execution_count": 106,
   "id": "7b3de0ef",
   "metadata": {},
   "outputs": [
    {
     "data": {
      "application/vnd.jupyter.widget-view+json": {
       "model_id": "6d15305365194a4785cadd1cbc1de7a4",
       "version_major": 2,
       "version_minor": 0
      },
      "text/plain": [
       "  0%|          | 0/15 [00:00<?, ?it/s]"
      ]
     },
     "metadata": {},
     "output_type": "display_data"
    },
    {
     "data": {
      "application/vnd.jupyter.widget-view+json": {
       "model_id": "b3c0dc64464f42b5bb5772efe66c6be9",
       "version_major": 2,
       "version_minor": 0
      },
      "text/plain": [
       "  0%|          | 0/2 [00:00<?, ?it/s]"
      ]
     },
     "metadata": {},
     "output_type": "display_data"
    },
    {
     "data": {
      "application/vnd.jupyter.widget-view+json": {
       "model_id": "78ec7ead399a444da84369f6d04d6b17",
       "version_major": 2,
       "version_minor": 0
      },
      "text/plain": [
       "  0%|          | 0/2 [00:00<?, ?it/s]"
      ]
     },
     "metadata": {},
     "output_type": "display_data"
    }
   ],
   "source": [
    "# Generate X\n",
    "from Bio import SeqIO\n",
    "from bisect import bisect\n",
    "\n",
    "flank = False             # to take negatives from flanking sequence\n",
    "gen_b6 = SeqIO.index(f'{basedir}pseudodiploid/gen/b6.fa', 'fasta')\n",
    "\n",
    "x = dict()\n",
    "for n,chrom in zip(name,chroms):\n",
    "    x[n] = []\n",
    "    if n!='test' and flank:\n",
    "        x[n+'_unegs'] = []\n",
    "\n",
    "    for c in tqdm(chrom):        # for each chromosome in train/val/test set\n",
    "        seq_b6 = ''.join(gen_b6.get_raw(str(c)).decode().split('\\n')[1:])\n",
    "        \n",
    "        chromsummits = summits.iloc[np.where(summits[0]==c)[0],1]     # slice out the relevant chromosome summits\n",
    "        \n",
    "        # get relevant b6 genomic seqs\n",
    "        x[n] += [seq_b6[i-seqlen//2:i+seqlen//2] for i in chromsummits]\n",
    "        \n",
    "        if n!='test' and flank:\n",
    "            chromsummits = summits_neg.iloc[np.where(summits_neg[0]==c)[0],1]     # slice out the relevant chromosome summits\n",
    "            x[n+'_unegs'] += [seq_b6[i-seqlen//2:i+seqlen//2] for i in chromsummits]\n",
    "\n",
    "    x[n] = one_hot(x[n])             # convert string of nucleotides to one-hot representation\n",
    "    if n!='test' and flank:\n",
    "        x[n+'_unegs'] = one_hot(x[n+'_unegs'])"
   ]
  },
  {
   "cell_type": "code",
   "execution_count": 107,
   "id": "1454d684",
   "metadata": {},
   "outputs": [
    {
     "data": {
      "application/vnd.jupyter.widget-view+json": {
       "model_id": "38a687ee10024157bbeb0083c392b851",
       "version_major": 2,
       "version_minor": 0
      },
      "text/plain": [
       "  0%|          | 0/15 [00:00<?, ?it/s]"
      ]
     },
     "metadata": {},
     "output_type": "display_data"
    },
    {
     "data": {
      "application/vnd.jupyter.widget-view+json": {
       "model_id": "80384c66a47e46ba8984aea8837741ee",
       "version_major": 2,
       "version_minor": 0
      },
      "text/plain": [
       "  0%|          | 0/2 [00:00<?, ?it/s]"
      ]
     },
     "metadata": {},
     "output_type": "display_data"
    }
   ],
   "source": [
    "# new code for actual background unegs - can be merged into x code later - SKIP till SKIP END if dont need to compute\n",
    "# written very stupidly, basically just overwrite the old unegs\n",
    "# this is because I didn't want to write logic to do one or the other depending on which method of unegs you want\n",
    "from utils import get_neg_summits\n",
    "\n",
    "if not flank:\n",
    "    bamfile = datadir+'bam/'+reps[0]+'_ref.bam'     # Note the use of haploid bam\n",
    "    bamf = pysam.AlignmentFile(bamfile, \"rb\")\n",
    "    if 'summits_aug' in locals():\n",
    "        temp_summits = summits.iloc[:(len(summits)-len(summits_aug)),:]\n",
    "    elif 'summits_neg' in locals():\n",
    "        temp_summits = summits.iloc[:len(summits_neg),:]\n",
    "        \n",
    "    for n,chrom in zip(name,chroms[:2]):\n",
    "        x[n+'_unegs'] = []\n",
    "\n",
    "        for c in tqdm(chrom):        # for each chromosome in train/val/test set\n",
    "            seq_b6 = ''.join(gen_b6.get_raw(str(c)).decode().split('\\n')[1:])\n",
    "\n",
    "            chromsummits = summits.iloc[np.where(summits[0]==c)[0],1]     # slice out the relevant chromosome summits\n",
    "            neg_summits = np.empty(0, dtype=np.int64)\n",
    "            seed=0\n",
    "            while len(neg_summits)<len(chromsummits):     # get neg summits and only keep low coverage ones (<5)\n",
    "                temp = get_neg_summits(chromsummits, len(chromsummits)-len(neg_summits), len(seq_b6), seed)\n",
    "                idx = np.where(np.array([bamf.count(str(c),i-seqlen//2,i+seqlen//2) for i in temp]) < 5)[0]\n",
    "                temp = temp[idx]\n",
    "                neg_summits = np.concatenate((neg_summits, temp))\n",
    "                seed+=1\n",
    "            neg_summits = np.sort(neg_summits)\n",
    "\n",
    "            # get relevant b6 genomic seqs\n",
    "            x[n+'_unegs'] += [seq_b6[i-seqlen//2:i+seqlen//2] for i in neg_summits]\n",
    "\n",
    "        x[n+'_unegs'] = one_hot(x[n+'_unegs'])\n",
    "\n",
    "gen_b6.close()\n",
    "\n",
    "# set uneg log acc to low constant value (at tail end of post-GC residual accessibility distribution)\n",
    "for n,chrom in zip(name[:2],chroms[:2]):\n",
    "    y[n+'_unegs'] = -5.0*np.ones(len(x[n+'_unegs']))\n",
    "\n",
    "# Finally, save everything...\n",
    "if save:\n",
    "    with h5py.File(datadir+'data_noGC'+ident+'_trueref.h5','w') as f:\n",
    "        for key in x.keys():\n",
    "            f.create_dataset('x_'+key, data=x[key])\n",
    "        for key in y.keys():\n",
    "            f.create_dataset('y_'+key, data=y[key])"
   ]
  },
  {
   "cell_type": "markdown",
   "id": "4cca94fd",
   "metadata": {},
   "source": [
    "## Perform GC regression"
   ]
  },
  {
   "cell_type": "code",
   "execution_count": 108,
   "id": "5923c373",
   "metadata": {},
   "outputs": [],
   "source": [
    "x = dict()\n",
    "y = dict()\n",
    "with h5py.File(datadir+'data_noGC'+ident+'_trueref.h5','r') as f:\n",
    "    for n in name:\n",
    "        x[n] = f['x_'+n][()]\n",
    "        y[n] = f['y_'+n][()]\n",
    "    x['train_unegs'] = f['x_train_unegs'][()]\n",
    "    x['val_unegs'] = f['x_val_unegs'][()]\n",
    "    y['train_unegs'] = f['y_train_unegs'][()]\n",
    "    y['val_unegs'] = f['y_val_unegs'][()]"
   ]
  },
  {
   "cell_type": "code",
   "execution_count": 109,
   "id": "1fd99d12",
   "metadata": {},
   "outputs": [
    {
     "data": {
      "image/png": "[encoded data removed]",
      "text/plain": [
       "<Figure size 720x360 with 1 Axes>"
      ]
     },
     "metadata": {
      "needs_background": "light"
     },
     "output_type": "display_data"
    }
   ],
   "source": [
    "# Visualize the GC-count relationship\n",
    "fig = plt.figure(figsize=(10,5))\n",
    "ax = fig.add_subplot()\n",
    "\n",
    "temp_x = np.vstack([x[k] for k in x.keys() if 'unegs' not in k])\n",
    "temp_y = np.concatenate([y[k] for k in y.keys() if 'unegs' not in k])\n",
    "GC = np.sum(temp_x[:,(seqlen//2-seqlen1//2):(seqlen//2+seqlen1//2),:], axis=1)\n",
    "GC = GC[:,1]+GC[:,2]\n",
    "ax.scatter(GC/seqlen*100, temp_y, s=4)\n",
    "coef = GCregress(temp_x[:,(seqlen//2-seqlen1//2):(seqlen//2+seqlen1//2),:], temp_y)    # limit GC counting to only the window where reads are counted\n",
    "ax.scatter(GC/seqlen*100, temp_y-coef*GC, s=4)\n",
    "ax.set_xlabel('GC content (%)')\n",
    "ax.set_ylabel('log accessibility')\n",
    "plt.show()"
   ]
  },
  {
   "cell_type": "code",
   "execution_count": 110,
   "id": "e68ff535",
   "metadata": {},
   "outputs": [],
   "source": [
    "# Regress out GC content\n",
    "temp_x = np.vstack([x[k] for k in x.keys() if 'unegs' not in k])\n",
    "temp_y = np.concatenate([y[k] for k in y.keys() if 'unegs' not in k])\n",
    "coef = GCregress(temp_x[:,(seqlen//2-seqlen1//2):(seqlen//2+seqlen1//2),:], temp_y)    # limit GC counting to only the window where reads are counted\n",
    "\n",
    "del x['test'], y['test']\n",
    "for n in ['train','val']:\n",
    "    GC = np.sum(x[n][:,(seqlen//2-seqlen1//2):(seqlen//2+seqlen1//2),:], axis=1)\n",
    "    GC = GC[:,1]+GC[:,2]\n",
    "    y[n] -= coef*GC"
   ]
  },
  {
   "cell_type": "code",
   "execution_count": 111,
   "id": "2eac53b3",
   "metadata": {},
   "outputs": [
    {
     "name": "stdout",
     "output_type": "stream",
     "text": [
      "-5.516182086843912\n",
      "[-5.]\n"
     ]
    }
   ],
   "source": [
    "# Do uneg count adjustment based on range of GC corrected values\n",
    "print(np.min(y['train']))\n",
    "print(np.unique(y['train_unegs']))\n",
    "# y['train_unegs'] -= 5\n",
    "# y['val_unegs'] -= 5"
   ]
  },
  {
   "cell_type": "code",
   "execution_count": 112,
   "id": "3c102feb",
   "metadata": {},
   "outputs": [],
   "source": [
    "if save:\n",
    "    with h5py.File(datadir+'data'+ident+'_trueref.h5','w') as f:\n",
    "        for key in x.keys():\n",
    "            f.create_dataset('x_'+key, data=x[key])\n",
    "            f.create_dataset('y_'+key, data=y[key])"
   ]
  },
  {
   "cell_type": "code",
   "execution_count": null,
   "id": "87c7aa06",
   "metadata": {},
   "outputs": [],
   "source": []
  }
 ],
 "metadata": {
  "kernelspec": {
   "display_name": "Python 3 (ipykernel)",
   "language": "python",
   "name": "python3"
  },
  "language_info": {
   "codemirror_mode": {
    "name": "ipython",
    "version": 3
   },
   "file_extension": ".py",
   "mimetype": "text/x-python",
   "name": "python",
   "nbconvert_exporter": "python",
   "pygments_lexer": "ipython3",
   "version": "3.8.3"
  }
 },
 "nbformat": 4,
 "nbformat_minor": 5
}
