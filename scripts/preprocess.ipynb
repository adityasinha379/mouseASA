{
 "cells": [
  {
   "cell_type": "code",
   "execution_count": 2,
   "metadata": {},
   "outputs": [],
   "source": [
    "# General import, names of train, test, val\n",
    "import numpy as np\n",
    "import pysam\n",
    "from tqdm.notebook import tqdm\n",
    "import h5py\n",
    "import pandas as pd\n",
    "\n",
    "basedir = '/data/leslie/shared/ASA/'\n",
    "aligndir = basedir+'pseudodiploid/'\n",
    "ctype = 'cd8'\n",
    "ident = '_vi'\n",
    "\n",
    "datadir = basedir+'mouseASA/data/'+ctype+'/'\n",
    "chrom_train = [1,2,4,6,7,8,9,11,12,13,14,16,17,18,19]\n",
    "chrom_val = [3,5]\n",
    "chrom_test = [10,15]\n",
    "chroms = [chrom_train, chrom_val, chrom_test]\n",
    "name = ['train', 'val', 'test']\n",
    "\n",
    "reps = ['r1','r2','r3','r4','r5']\n",
    "seqlen = 300                         # region around summit for sequence\n",
    "seqlen1 = 150                        # region around summit for coverage\n",
    "save = True"
   ]
  },
  {
   "cell_type": "markdown",
   "metadata": {},
   "source": [
    "# Preprocessing of Model Input"
   ]
  },
  {
   "cell_type": "code",
   "execution_count": 3,
   "metadata": {},
   "outputs": [],
   "source": [
    "# make data directory for the cell type\n",
    "import os\n",
    "\n",
    "if not os.path.exists(datadir):\n",
    "    os.makedirs(datadir)\n",
    "    # separate out replicate BAM files based on allele tag wA, to be used for pileup purposes\n",
    "    for rep in reps:\n",
    "        bamfile = aligndir+ctype+'/'+rep+'.combined.rmDup.Aligned.sortedByCoord.out.bam'\n",
    "        _ = pysam.index(bamfile)\n",
    "        bamf = pysam.AlignmentFile(bamfile, \"rb\")\n",
    "        temp1 = pysam.AlignmentFile(datadir+rep+'_b6.bam', 'wb', template=bamf)\n",
    "        temp2 = pysam.AlignmentFile(datadir+rep+'_cast.bam', 'wb', template=bamf)\n",
    "        temp3 = pysam.AlignmentFile(datadir+rep+'_both.bam', 'wb', template=bamf)\n",
    "        i=0\n",
    "        for read in bamf.fetch():\n",
    "            try:\n",
    "                idx = read.get_tag('wA')\n",
    "                if idx==0:\n",
    "                    temp1.write(read)\n",
    "                elif idx==1:\n",
    "                    temp2.write(read)\n",
    "                elif idx==2:\n",
    "                    temp3.write(read)\n",
    "            except:\n",
    "                i+=1\n",
    "        print(i)\n",
    "        temp1.close()\n",
    "        temp2.close()\n",
    "        temp3.close()\n",
    "        bamf.close()\n",
    "\n",
    "        _ = pysam.index(datadir+rep+'_b6.bam')\n",
    "        _ = pysam.index(datadir+rep+'_cast.bam')\n",
    "        _ = pysam.index(datadir+rep+'_both.bam')\n",
    "\n",
    "N = []\n",
    "for rep in reps:\n",
    "    bamfile = aligndir+ctype+'/'+rep+'.combined.rmDup.Aligned.sortedByCoord.out.bam'\n",
    "    bamf = pysam.AlignmentFile(bamfile, \"rb\")\n",
    "    N.append( sum([bamf.get_index_statistics()[i][1] for i in range(len(chrom_train+chrom_test+chrom_val))]) )\n",
    "    bamf.close()"
   ]
  },
  {
   "cell_type": "code",
   "execution_count": 4,
   "metadata": {},
   "outputs": [],
   "source": [
    "# some utility functions\n",
    "from sklearn.linear_model import LinearRegression\n",
    "\n",
    "def get_summits(peaks):\n",
    "    # Returns summits corresponding to peaks and also for negative flanking regions\n",
    "    summits = peaks.copy()\n",
    "    summits.iloc[:,1] += summits.iloc[:,9]\n",
    "    summits = summits.iloc[:,[0,1]].reset_index(drop=True)\n",
    "\n",
    "    summits_neg = summits.copy()\n",
    "    summits_neg1 = summits.copy()\n",
    "    for i in range(len(peaks)):\n",
    "        summits_neg.iloc[i,1] = peaks.iloc[i,2] + 500\n",
    "        summits_neg1.iloc[i,1] = peaks.iloc[i,1] - (500-1)\n",
    "    \n",
    "    summits_neg = pd.concat( (summits_neg,summits_neg1), ignore_index=True)\n",
    "    summits_neg = summits_neg.sort_values(by=[0,1], ignore_index=True)\n",
    "    return summits, summits_neg\n",
    "\n",
    "def get_shifts(chromsummits, mods, c):\n",
    "    mod_c = [x for x in mods if '\\t'+str(c)+'\\t' in x]           # slice out relevant mod lines and arrange them in dataframe\n",
    "    mod_c = pd.DataFrame([x.split('\\t') for x in mod_c])\n",
    "    mod_c[2] = mod_c[2].astype(int)\n",
    "    idx = [bisect(mod_c[2],summit)-1 for summit in chromsummits]  # get indices corresponding to relevant indels\n",
    "    \n",
    "    cast_shifts = []\n",
    "    for i in idx:\n",
    "        temp = mod_c.loc[:i]\n",
    "        cast_shifts.append( len(''.join(temp.loc[temp[0]=='i'][3])) - len(temp.loc[temp[0]=='d'][3]) )\n",
    "    return cast_shifts\n",
    "\n",
    "def one_hot(x):\n",
    "    # input: list length n of strings\n",
    "    # output: (n,seqlen,4)\n",
    "    x_oht = []\n",
    "    mapping = dict(zip(['A','C','G','T','N'],[[1,0,0,0],[0,1,0,0],[0,0,1,0],[0,0,0,1],[0,0,0,0]]))\n",
    "    for i in range(len(x)):\n",
    "        x_oht.append([mapping[nuc] for nuc in x[i]])\n",
    "    return np.array(x_oht)\n",
    "\n",
    "def GCregress(x,y):\n",
    "    # x: (n, seqlen, 4)  y: (n,)\n",
    "    GC = np.sum(x, axis=1)\n",
    "    GC = GC[:,1]+GC[:,2]           # get total GC content for each OHT coded peakseq\n",
    "    reg = LinearRegression().fit(GC.reshape(-1,1),y.reshape(-1,1))\n",
    "    return reg.coef_[0][0]\n",
    "\n",
    "def revcomp(x,y):\n",
    "    # augment data by adding reverse complements\n",
    "    # output x: (2n, seqlen, 4)    y: (2n,)\n",
    "    x = np.vstack( (x, np.flip(np.flip(x,axis=1),axis=2)) )    # reverse complement the sequences and stack them below already existing peak sequences\n",
    "    y = np.concatenate((y,y))                    # simply duplicate the log-summed accessibility RPMs\n",
    "    return x,y\n",
    "\n",
    "def remove_blacklist(peaks, blacklist):\n",
    "    idx = []\n",
    "    for c in np.unique(peaks[0]):\n",
    "        chromblack = blacklist.loc[np.where(blacklist[0]=='chr'+str(c))].iloc[:,1:3]\n",
    "        chromblack = np.array([x for y in chromblack.values.tolist() for x in y])\n",
    "        chrompeaks = peaks.loc[np.where(peaks[0]==c)]\n",
    "        temp = chrompeaks.index.tolist()\n",
    "        for i in range(len(chrompeaks)):\n",
    "            if np.argmax(chrompeaks.iloc[i,1]<chromblack)%2 or np.argmax(chrompeaks.iloc[i,2]<chromblack)%2:\n",
    "                idx.append(temp[i])\n",
    "    peaks = peaks.drop(idx).reset_index(drop=True)\n",
    "    return peaks"
   ]
  },
  {
   "cell_type": "code",
   "execution_count": 6,
   "metadata": {},
   "outputs": [],
   "source": [
    "# process peakatlas file to get peaks dataframe\n",
    "if ident=='_vi':\n",
    "    summits = pd.read_csv(aligndir+'cd8_old/yi_cd8_peaks_34075.csv',sep=',',index_col=0)\n",
    "    summits['start'] += 150\n",
    "    temp = summits.iloc[:,0]\n",
    "    summits = summits.iloc[:,1:3]\n",
    "    summits.columns = range(2)\n",
    "    summits_neg = pd.read_csv(aligndir+'cd8_old/yi_cd8_uneg_peaks_33143.csv',sep=',',index_col=0)\n",
    "    summits_neg['start'] += 150\n",
    "    summits_neg = summits_neg.iloc[:,1:3].reset_index(drop=True)\n",
    "    summits_neg.columns = range(2)\n",
    "else:\n",
    "    if ident=='_yi':\n",
    "        peakfile = aligndir+'cd8_old/peaks_yi.bed'\n",
    "    else:\n",
    "        peakfile = aligndir+ctype+'/peaks/peakatlas.bed'\n",
    "    peaks = pd.read_csv(peakfile, sep='\\t', header=None)\n",
    "\n",
    "    if not ident:\n",
    "        # filter peaks based on IDR threshold (column 12 of BED)\n",
    "        idr_thresh = 0.05\n",
    "        idx = np.where( peaks.iloc[:,11] >= -np.log10(idr_thresh) )[0]\n",
    "        peaks = peaks.loc[idx].reset_index(drop=True)\n",
    "\n",
    "    # remove blacklist regions\n",
    "    # blacklistfile = aligndir+'mm10-blacklist.v2.bed'\n",
    "    # blacklist = pd.read_csv(blacklistfile, sep='\\t', header=None)\n",
    "    # peaks = remove_blacklist(peaks, blacklist)\n",
    "\n",
    "    # get summits of called + flanking neg peaks\n",
    "    summits, summits_neg = get_summits(peaks)"
   ]
  },
  {
   "cell_type": "code",
   "execution_count": 7,
   "metadata": {
    "scrolled": true
   },
   "outputs": [],
   "source": [
    "if ident!='_vi':\n",
    "    # FOR UNEGS, get the shortlist of summits_neg that have low accessibility\n",
    "    # get indices for each rep\n",
    "    idx = dict()\n",
    "    for rep in tqdm(reps):\n",
    "        bamfile = aligndir+ctype+'/'+rep+'.combined.rmDup.Aligned.sortedByCoord.out.bam'\n",
    "        bamf = pysam.AlignmentFile(bamfile, \"rb\")\n",
    "\n",
    "        idx[rep] = []\n",
    "        for chrom in chroms[:2]:\n",
    "            for c in chrom:\n",
    "                chromsummits = summits_neg.loc[np.where(summits_neg[0]==c)[0]]\n",
    "                y_uneg = []\n",
    "                for i in chromsummits[1]:\n",
    "                    y_uneg.append(bamf.count(str(c),i-seqlen//2,i+seqlen//2))\n",
    "                idx[rep] += list(chromsummits.index[ np.where(np.array(y_uneg)<5)[0] ])\n",
    "        bamf.close()\n",
    "\n",
    "    del y_uneg\n",
    "    # get low accessibility indices across reps\n",
    "    temp = set(idx[reps[0]])\n",
    "    for rep in reps[1:]:\n",
    "        temp.intersection_update(idx[rep])\n",
    "    idx = list(temp)\n",
    "\n",
    "    # shortlist unegs to low accessibility indexes\n",
    "    summits_neg = summits_neg.loc[idx].reset_index(drop=True)\n",
    "    frac=0.5\n",
    "    if len(summits_neg) > frac*len(summits):\n",
    "        idx = np.random.choice(len(summits_neg), int(frac*len(summits)), replace=False)\n",
    "        summits_neg = summits_neg.loc[idx].reset_index(drop=True)\n",
    "    summits_neg = summits_neg.sort_values(by=[0,1], ignore_index=True)\n",
    "\n",
    "    if save:\n",
    "        summits.to_csv(datadir+'summits'+ident+'.csv', index=False, header=False)\n",
    "        summits_neg.to_csv(datadir+'summits_neg'+ident+'.csv', index=False, header=False)"
   ]
  },
  {
   "cell_type": "markdown",
   "metadata": {},
   "source": [
    "Some debugging to see summit counts"
   ]
  },
  {
   "cell_type": "code",
   "execution_count": 11,
   "metadata": {
    "scrolled": true
   },
   "outputs": [
    {
     "data": {
      "text/html": [
       "<div>\n",
       "<style scoped>\n",
       "    .dataframe tbody tr th:only-of-type {\n",
       "        vertical-align: middle;\n",
       "    }\n",
       "\n",
       "    .dataframe tbody tr th {\n",
       "        vertical-align: top;\n",
       "    }\n",
       "\n",
       "    .dataframe thead th {\n",
       "        text-align: right;\n",
       "    }\n",
       "</style>\n",
       "<table border=\"1\" class=\"dataframe\">\n",
       "  <thead>\n",
       "    <tr style=\"text-align: right;\">\n",
       "      <th></th>\n",
       "      <th>0</th>\n",
       "      <th>1</th>\n",
       "    </tr>\n",
       "  </thead>\n",
       "  <tbody>\n",
       "    <tr>\n",
       "      <th>0</th>\n",
       "      <td>1</td>\n",
       "      <td>10038066</td>\n",
       "    </tr>\n",
       "    <tr>\n",
       "      <th>1</th>\n",
       "      <td>1</td>\n",
       "      <td>10039792</td>\n",
       "    </tr>\n",
       "    <tr>\n",
       "      <th>2</th>\n",
       "      <td>1</td>\n",
       "      <td>100738920</td>\n",
       "    </tr>\n",
       "    <tr>\n",
       "      <th>3</th>\n",
       "      <td>1</td>\n",
       "      <td>10089714</td>\n",
       "    </tr>\n",
       "    <tr>\n",
       "      <th>4</th>\n",
       "      <td>1</td>\n",
       "      <td>101902423</td>\n",
       "    </tr>\n",
       "    <tr>\n",
       "      <th>5</th>\n",
       "      <td>1</td>\n",
       "      <td>10217148</td>\n",
       "    </tr>\n",
       "    <tr>\n",
       "      <th>6</th>\n",
       "      <td>1</td>\n",
       "      <td>10233037</td>\n",
       "    </tr>\n",
       "    <tr>\n",
       "      <th>7</th>\n",
       "      <td>1</td>\n",
       "      <td>10257705</td>\n",
       "    </tr>\n",
       "    <tr>\n",
       "      <th>8</th>\n",
       "      <td>1</td>\n",
       "      <td>102628249</td>\n",
       "    </tr>\n",
       "    <tr>\n",
       "      <th>9</th>\n",
       "      <td>1</td>\n",
       "      <td>10325529</td>\n",
       "    </tr>\n",
       "    <tr>\n",
       "      <th>10</th>\n",
       "      <td>1</td>\n",
       "      <td>105663788</td>\n",
       "    </tr>\n",
       "    <tr>\n",
       "      <th>11</th>\n",
       "      <td>1</td>\n",
       "      <td>105780657</td>\n",
       "    </tr>\n",
       "    <tr>\n",
       "      <th>12</th>\n",
       "      <td>1</td>\n",
       "      <td>105790499</td>\n",
       "    </tr>\n",
       "    <tr>\n",
       "      <th>13</th>\n",
       "      <td>1</td>\n",
       "      <td>105803130</td>\n",
       "    </tr>\n",
       "    <tr>\n",
       "      <th>14</th>\n",
       "      <td>1</td>\n",
       "      <td>105891267</td>\n",
       "    </tr>\n",
       "    <tr>\n",
       "      <th>15</th>\n",
       "      <td>1</td>\n",
       "      <td>105971939</td>\n",
       "    </tr>\n",
       "    <tr>\n",
       "      <th>16</th>\n",
       "      <td>1</td>\n",
       "      <td>105981001</td>\n",
       "    </tr>\n",
       "    <tr>\n",
       "      <th>17</th>\n",
       "      <td>1</td>\n",
       "      <td>105990431</td>\n",
       "    </tr>\n",
       "    <tr>\n",
       "      <th>18</th>\n",
       "      <td>1</td>\n",
       "      <td>105993970</td>\n",
       "    </tr>\n",
       "    <tr>\n",
       "      <th>19</th>\n",
       "      <td>1</td>\n",
       "      <td>106037078</td>\n",
       "    </tr>\n",
       "    <tr>\n",
       "      <th>20</th>\n",
       "      <td>1</td>\n",
       "      <td>106071425</td>\n",
       "    </tr>\n",
       "    <tr>\n",
       "      <th>21</th>\n",
       "      <td>1</td>\n",
       "      <td>106152003</td>\n",
       "    </tr>\n",
       "    <tr>\n",
       "      <th>22</th>\n",
       "      <td>1</td>\n",
       "      <td>106158154</td>\n",
       "    </tr>\n",
       "    <tr>\n",
       "      <th>23</th>\n",
       "      <td>1</td>\n",
       "      <td>106162820</td>\n",
       "    </tr>\n",
       "    <tr>\n",
       "      <th>24</th>\n",
       "      <td>1</td>\n",
       "      <td>106171517</td>\n",
       "    </tr>\n",
       "    <tr>\n",
       "      <th>25</th>\n",
       "      <td>1</td>\n",
       "      <td>106376198</td>\n",
       "    </tr>\n",
       "    <tr>\n",
       "      <th>26</th>\n",
       "      <td>1</td>\n",
       "      <td>106395662</td>\n",
       "    </tr>\n",
       "    <tr>\n",
       "      <th>27</th>\n",
       "      <td>1</td>\n",
       "      <td>106401062</td>\n",
       "    </tr>\n",
       "    <tr>\n",
       "      <th>28</th>\n",
       "      <td>1</td>\n",
       "      <td>106425401</td>\n",
       "    </tr>\n",
       "    <tr>\n",
       "      <th>29</th>\n",
       "      <td>1</td>\n",
       "      <td>106511779</td>\n",
       "    </tr>\n",
       "    <tr>\n",
       "      <th>30</th>\n",
       "      <td>1</td>\n",
       "      <td>106515797</td>\n",
       "    </tr>\n",
       "    <tr>\n",
       "      <th>31</th>\n",
       "      <td>1</td>\n",
       "      <td>106545048</td>\n",
       "    </tr>\n",
       "    <tr>\n",
       "      <th>32</th>\n",
       "      <td>1</td>\n",
       "      <td>106549250</td>\n",
       "    </tr>\n",
       "    <tr>\n",
       "      <th>33</th>\n",
       "      <td>1</td>\n",
       "      <td>106561613</td>\n",
       "    </tr>\n",
       "    <tr>\n",
       "      <th>34</th>\n",
       "      <td>1</td>\n",
       "      <td>106581957</td>\n",
       "    </tr>\n",
       "    <tr>\n",
       "      <th>35</th>\n",
       "      <td>1</td>\n",
       "      <td>106595456</td>\n",
       "    </tr>\n",
       "    <tr>\n",
       "      <th>36</th>\n",
       "      <td>1</td>\n",
       "      <td>106601006</td>\n",
       "    </tr>\n",
       "    <tr>\n",
       "      <th>37</th>\n",
       "      <td>1</td>\n",
       "      <td>106607128</td>\n",
       "    </tr>\n",
       "    <tr>\n",
       "      <th>38</th>\n",
       "      <td>1</td>\n",
       "      <td>106612778</td>\n",
       "    </tr>\n",
       "    <tr>\n",
       "      <th>39</th>\n",
       "      <td>1</td>\n",
       "      <td>106647529</td>\n",
       "    </tr>\n",
       "  </tbody>\n",
       "</table>\n",
       "</div>"
      ],
      "text/plain": [
       "    0          1\n",
       "0   1   10038066\n",
       "1   1   10039792\n",
       "2   1  100738920\n",
       "3   1   10089714\n",
       "4   1  101902423\n",
       "5   1   10217148\n",
       "6   1   10233037\n",
       "7   1   10257705\n",
       "8   1  102628249\n",
       "9   1   10325529\n",
       "10  1  105663788\n",
       "11  1  105780657\n",
       "12  1  105790499\n",
       "13  1  105803130\n",
       "14  1  105891267\n",
       "15  1  105971939\n",
       "16  1  105981001\n",
       "17  1  105990431\n",
       "18  1  105993970\n",
       "19  1  106037078\n",
       "20  1  106071425\n",
       "21  1  106152003\n",
       "22  1  106158154\n",
       "23  1  106162820\n",
       "24  1  106171517\n",
       "25  1  106376198\n",
       "26  1  106395662\n",
       "27  1  106401062\n",
       "28  1  106425401\n",
       "29  1  106511779\n",
       "30  1  106515797\n",
       "31  1  106545048\n",
       "32  1  106549250\n",
       "33  1  106561613\n",
       "34  1  106581957\n",
       "35  1  106595456\n",
       "36  1  106601006\n",
       "37  1  106607128\n",
       "38  1  106612778\n",
       "39  1  106647529"
      ]
     },
     "execution_count": 11,
     "metadata": {},
     "output_type": "execute_result"
    }
   ],
   "source": [
    "summits.head(40)"
   ]
  },
  {
   "cell_type": "code",
   "execution_count": 13,
   "metadata": {},
   "outputs": [
    {
     "data": {
      "text/plain": [
       "10038066"
      ]
     },
     "execution_count": 13,
     "metadata": {},
     "output_type": "execute_result"
    }
   ],
   "source": [
    "summits.iloc[0,1]"
   ]
  },
  {
   "cell_type": "code",
   "execution_count": 17,
   "metadata": {},
   "outputs": [
    {
     "name": "stdout",
     "output_type": "stream",
     "text": [
      "120\n",
      "115\n",
      "172 \n",
      "\n",
      "97\n",
      "87\n",
      "184 \n",
      "\n",
      "6\n",
      "46\n",
      "0 \n",
      "\n",
      "26\n",
      "23\n",
      "10 \n",
      "\n",
      "18\n",
      "52\n",
      "64 \n",
      "\n"
     ]
    }
   ],
   "source": [
    "# check the count function\n",
    "# rep = 'r1'\n",
    "# temp1 = pysam.AlignmentFile(datadir+rep+'_b6.bam', 'rb')\n",
    "# temp2 = pysam.AlignmentFile(datadir+rep+'_cast.bam', 'rb')\n",
    "# temp3 = pysam.AlignmentFile(datadir+rep+'_both.bam', 'rb')\n",
    "\n",
    "c = 1\n",
    "for k in range(5):\n",
    "    i = summits.iloc[k,1]\n",
    "    y1 = temp1.count(str(c),i-seqlen1//2,i+seqlen1//2)\n",
    "    y2 = temp2.count(str(c),i-seqlen1//2,i+seqlen1//2)\n",
    "    y3 = temp3.count(str(c),i-seqlen1//2,i+seqlen1//2)\n",
    "    print(y1)\n",
    "    print(y2)\n",
    "    print(y3,'\\n')"
   ]
  },
  {
   "cell_type": "code",
   "execution_count": 18,
   "metadata": {},
   "outputs": [
    {
     "name": "stdout",
     "output_type": "stream",
     "text": [
      "10037916 10038216\n",
      "10039642 10039942\n",
      "100738770 100739070\n",
      "10089564 10089864\n",
      "101902273 101902573\n"
     ]
    }
   ],
   "source": [
    "for k in range(5):\n",
    "    i = summits.iloc[k,1]\n",
    "    print(i-seqlen1//2, i+seqlen1//2)"
   ]
  },
  {
   "cell_type": "markdown",
   "metadata": {},
   "source": [
    "End of debugging"
   ]
  },
  {
   "cell_type": "code",
   "execution_count": 9,
   "metadata": {
    "scrolled": true
   },
   "outputs": [
    {
     "data": {
      "application/vnd.jupyter.widget-view+json": {
       "model_id": "4dc0d038c5c24c23a15d6741a8a49ee3",
       "version_major": 2,
       "version_minor": 0
      },
      "text/plain": [
       "  0%|          | 0/5 [00:00<?, ?it/s]"
      ]
     },
     "metadata": {},
     "output_type": "display_data"
    }
   ],
   "source": [
    "# Generate y\n",
    "# Use summits and BAM files to generate pileup summed accessibilities\n",
    "y = dict()\n",
    "for rep in tqdm(reps):\n",
    "    temp1 = pysam.AlignmentFile(datadir+rep+'_b6.bam', 'rb')\n",
    "    temp2 = pysam.AlignmentFile(datadir+rep+'_cast.bam', 'rb')\n",
    "    temp3 = pysam.AlignmentFile(datadir+rep+'_both.bam', 'rb')\n",
    "\n",
    "    for n,chrom in zip(name,chroms):\n",
    "        y[rep+'_'+n+'_b6'] = []\n",
    "        y[rep+'_'+n+'_cast'] = []\n",
    "\n",
    "        for c in chrom:        # for each chromosome in train/val/test set\n",
    "            chromsummits = summits.loc[np.where(summits[0]==c)[0],1]     # slice out the relevant chromosome summits\n",
    "            y_b6 = []\n",
    "            y_cast = []\n",
    "            for i in chromsummits:\n",
    "                # for each summit peak, get the summed accessibility from BAM pileup\n",
    "                y1 = temp1.count(str(c),i-seqlen1//2,i+seqlen1//2)\n",
    "                y2 = temp2.count(str(c),i-seqlen1//2,i+seqlen1//2)\n",
    "                y3 = temp3.count(str(c),i-seqlen1//2,i+seqlen1//2)\n",
    "                y_b6.append(y1+y3/2)\n",
    "                y_cast.append(y2+y3/2)            \n",
    "            \n",
    "            y[rep+'_'+n+'_b6'] += y_b6\n",
    "            y[rep+'_'+n+'_cast'] += y_cast\n",
    "    \n",
    "    temp1.close()\n",
    "    temp2.close()\n",
    "    temp3.close()\n",
    "del y_b6, y_cast, y1, y2, y3, chromsummits\n",
    "\n",
    "# merge RPMs across reps\n",
    "for n in name:\n",
    "    y[n+'_b6'] = np.zeros_like(y[rep+'_'+n+'_b6'])\n",
    "    y[n+'_cast'] = np.zeros_like(y[rep+'_'+n+'_cast'])\n",
    "    for i,rep in enumerate(reps):\n",
    "        y[n+'_b6'] += np.array(y[rep+'_'+n+'_b6'])*1e6/N[i]\n",
    "        y[n+'_cast'] += np.array(y[rep+'_'+n+'_cast'])*1e6/N[i]\n",
    "        del y[rep+'_'+n+'_b6'], y[rep+'_'+n+'_cast']\n",
    "\n",
    "    y[n+'_b6'] = np.log2( 1+y[n+'_b6'] )                  # normalize summed counts to RPM\n",
    "    y[n+'_cast'] = np.log2( 1+y[n+'_cast'] )                  # normalize summed counts to RPM\n",
    "\n",
    "# set uneg log acc to low constant value\n",
    "for n,chrom in zip(name[:2],chroms[:2]):\n",
    "    y[n+'_unegs'] = -5.0*np.ones(len(summits_neg.loc[np.where(summits_neg[0].isin(chrom))[0]]))\n",
    "\n",
    "if save:\n",
    "    with h5py.File(datadir+'data_noGC'+ident+'_150bp.h5','w') as f:\n",
    "        for key in y.keys():\n",
    "            f.create_dataset('y_'+key, data=y[key])"
   ]
  },
  {
   "cell_type": "code",
   "execution_count": 10,
   "metadata": {},
   "outputs": [
    {
     "data": {
      "application/vnd.jupyter.widget-view+json": {
       "model_id": "9b82ff2926b14c12b2c00b70085c6f33",
       "version_major": 2,
       "version_minor": 0
      },
      "text/plain": [
       "  0%|          | 0/15 [00:00<?, ?it/s]"
      ]
     },
     "metadata": {},
     "output_type": "display_data"
    },
    {
     "data": {
      "application/vnd.jupyter.widget-view+json": {
       "model_id": "a0de9e788f2847f496925d49efc2f491",
       "version_major": 2,
       "version_minor": 0
      },
      "text/plain": [
       "  0%|          | 0/2 [00:00<?, ?it/s]"
      ]
     },
     "metadata": {},
     "output_type": "display_data"
    },
    {
     "data": {
      "application/vnd.jupyter.widget-view+json": {
       "model_id": "2afb8e46ebd949d4aeb892aa4257535b",
       "version_major": 2,
       "version_minor": 0
      },
      "text/plain": [
       "  0%|          | 0/2 [00:00<?, ?it/s]"
      ]
     },
     "metadata": {},
     "output_type": "display_data"
    }
   ],
   "source": [
    "# Generate X\n",
    "# Get coordinate shifts for the cast genome corresponding to the summits in b6 coords, and prepare input homologous peak sequences X\n",
    "import gzip\n",
    "from Bio import SeqIO\n",
    "from bisect import bisect\n",
    "\n",
    "gen_b6 = SeqIO.index(aligndir+'gen/b6.fa', 'fasta')\n",
    "gen_cast = SeqIO.index(aligndir+'gen/cast.fa', 'fasta')\n",
    "\n",
    "modfile = aligndir+'gen/cast.mod'\n",
    "with gzip.open(modfile,'rt') as f:\n",
    "    mods = f.read().split('\\n')\n",
    "    mods = [x for x in mods if not (x.startswith('s') or x.startswith('#'))][:-1]            # filter out SNPs and header lines\n",
    "\n",
    "x = dict()\n",
    "for n,chrom in zip(name,chroms):\n",
    "    x[n+'_b6'] = []\n",
    "    x[n+'_cast'] = []\n",
    "    if n!='test':\n",
    "        x[n+'_unegs'] = []\n",
    "\n",
    "    for c in tqdm(chrom):        # for each chromosome in train/val/test set\n",
    "        seq_b6 = ''.join(gen_b6.get_raw(str(c)).decode().split('\\n')[1:])\n",
    "        seq_cast = ''.join(gen_cast.get_raw(str(c)).decode().split('\\n')[1:])\n",
    "\n",
    "        chromsummits = summits.loc[np.where(summits[0]==c)[0],1]     # slice out the relevant chromosome summits\n",
    "        cast_shifts = get_shifts(chromsummits, mods, c)\n",
    "\n",
    "        # get relevant b6 genomic seqs\n",
    "        x[n+'_b6'] += [seq_b6[i-seqlen//2:i+seqlen//2] for i in chromsummits]\n",
    "        # add corresponding cast genomic seqs\n",
    "        x[n+'_cast'] += [seq_cast[i+j-seqlen//2:i+j+seqlen//2] for i,j in zip(chromsummits,cast_shifts)]\n",
    "\n",
    "        if n!='test':\n",
    "            chromsummits = summits_neg.loc[np.where(summits_neg[0]==c)[0],1]     # slice out the relevant chromosome summits\n",
    "            x[n+'_unegs'] += [seq_b6[i-seqlen//2:i+seqlen//2] for i in chromsummits]\n",
    "\n",
    "    x[n+'_b6'] = one_hot(x[n+'_b6'])             # convert string of nucleotides to one-hot representation\n",
    "    x[n+'_cast'] = one_hot(x[n+'_cast'])\n",
    "    if n!='test':\n",
    "        x[n+'_unegs'] = one_hot(x[n+'_unegs'])\n",
    "\n",
    "gen_b6.close()\n",
    "gen_cast.close()\n",
    "\n",
    "if save:\n",
    "    with h5py.File(datadir+'data_noGC'+ident+'_150bp.h5','a') as f:\n",
    "        for key in x.keys():\n",
    "            f.create_dataset('x_'+key, data=x[key])"
   ]
  },
  {
   "cell_type": "code",
   "execution_count": 11,
   "metadata": {
    "scrolled": false
   },
   "outputs": [
    {
     "data": {
      "image/png": "[encoded data removed]",
      "text/plain": [
       "<Figure size 576x576 with 1 Axes>"
      ]
     },
     "metadata": {
      "needs_background": "light"
     },
     "output_type": "display_data"
    }
   ],
   "source": [
    "import matplotlib.pyplot as plt\n",
    "fig = plt.figure(figsize=(8,8))\n",
    "ax = fig.add_subplot()\n",
    "\n",
    "ax.scatter(y['train_b6'],y['train_cast'], s=4)\n",
    "plt.title('Summit-centered accessibility')\n",
    "ax.set_xlabel('b6 accessibility')\n",
    "ax.set_ylabel('cast accessibility')\n",
    "plt.show()"
   ]
  },
  {
   "cell_type": "markdown",
   "metadata": {},
   "source": [
    "## Perform GC regression"
   ]
  },
  {
   "cell_type": "code",
   "execution_count": 38,
   "metadata": {},
   "outputs": [],
   "source": [
    "x = dict()\n",
    "y = dict()\n",
    "with h5py.File(datadir+'data_noGC'+ident+'_150bp.h5','r') as f:\n",
    "    for n in name:\n",
    "        for allele in ['b6','cast']:\n",
    "            x[n+'_'+allele] = f['x_'+n+'_'+allele][()]\n",
    "            y[n+'_'+allele] = f['y_'+n+'_'+allele][()]\n",
    "    x['train_unegs'] = f['x_train_unegs'][()]\n",
    "    x['val_unegs'] = f['x_val_unegs'][()]\n",
    "    y['train_unegs'] = f['y_train_unegs'][()]\n",
    "    y['val_unegs'] = f['y_val_unegs'][()]"
   ]
  },
  {
   "cell_type": "code",
   "execution_count": 34,
   "metadata": {},
   "outputs": [],
   "source": [
    "# Regress out GC content\n",
    "temp_x = np.vstack([x[k] for k in x.keys() if 'unegs' not in k])\n",
    "temp_y = np.concatenate([y[k] for k in y.keys() if 'unegs' not in k])\n",
    "coef = GCregress(temp_x[:,(seqlen//2-seqlen1//2):(seqlen//2+seqlen1//2),:], temp_y)    # limit GC counting to only the window where reads are counted\n",
    "for n in name:\n",
    "    for allele in ['b6','cast']:\n",
    "        GC = np.sum(x[n+'_'+allele][:,(seqlen//2-seqlen1//2):(seqlen//2+seqlen1//2),:], axis=1)\n",
    "        GC = GC[:,1]+GC[:,2]\n",
    "        y[n+'_'+allele] -= coef*GC"
   ]
  },
  {
   "cell_type": "code",
   "execution_count": 39,
   "metadata": {},
   "outputs": [
    {
     "data": {
      "image/png": "[encoded data removed]",
      "text/plain": [
       "<Figure size 576x576 with 1 Axes>"
      ]
     },
     "metadata": {
      "needs_background": "light"
     },
     "output_type": "display_data"
    }
   ],
   "source": [
    "fig = plt.figure(figsize=(8,8))\n",
    "ax = fig.add_subplot()\n",
    "\n",
    "ax.scatter(y['train_b6'], y['train_cast'],\n",
    "            vmax = 2, vmin = -2, s = 4)\n",
    "plt.title('Summit-centered accessibility')\n",
    "ax.set_xlabel('residual b6 accessibility')\n",
    "ax.set_ylabel('residual cast accessibility')\n",
    "plt.show()"
   ]
  },
  {
   "cell_type": "code",
   "execution_count": 31,
   "metadata": {},
   "outputs": [
    {
     "data": {
      "text/plain": [
       "array([-5.])"
      ]
     },
     "execution_count": 31,
     "metadata": {},
     "output_type": "execute_result"
    }
   ],
   "source": [
    "# Do uneg count adjustment based on range of GC corrected values\n",
    "np.unique(y['train_unegs'])\n",
    "# y['train_unegs'] -= 1.5\n",
    "# y['val_unegs'] -= 1.5"
   ]
  },
  {
   "cell_type": "code",
   "execution_count": 36,
   "metadata": {},
   "outputs": [],
   "source": [
    "if save:\n",
    "    with h5py.File(datadir+'data'+ident+'_150bp.h5','w') as f:\n",
    "        for key in x.keys():\n",
    "            f.create_dataset('x_'+key, data=x[key])\n",
    "            f.create_dataset('y_'+key, data=y[key])"
   ]
  }
 ],
 "metadata": {
  "interpreter": {
   "hash": "0f07b599dba35ea3e3431fe483080f9a2b540e1c33071a57a1e300447d2107f4"
  },
  "kernelspec": {
   "display_name": "Python 3 (ipykernel)",
   "language": "python",
   "name": "python3"
  },
  "language_info": {
   "codemirror_mode": {
    "name": "ipython",
    "version": 3
   },
   "file_extension": ".py",
   "mimetype": "text/x-python",
   "name": "python",
   "nbconvert_exporter": "python",
   "pygments_lexer": "ipython3",
   "version": "3.8.3"
  }
 },
 "nbformat": 4,
 "nbformat_minor": 2
}
