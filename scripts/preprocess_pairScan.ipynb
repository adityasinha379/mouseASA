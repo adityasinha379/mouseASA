{
 "cells": [
  {
   "cell_type": "markdown",
   "metadata": {},
   "source": [
    "Code for preprocessing pairScan data \\\n",
    "Starting from the aligned pseudodiploid bams, we separate them out into wA 0,1,2 \\\n",
    "Then we get allele specific coverage and sequences accordingly \\\n",
    "We save this temporary result in a data_noGC.h5 and then perform GC regression on it \\\n",
    "NOTE: This script only generates data_ident.h5 (ie. no ref or trueref)"
   ]
  },
  {
   "cell_type": "code",
   "execution_count": 51,
   "metadata": {},
   "outputs": [
    {
     "name": "stdout",
     "output_type": "stream",
     "text": [
      "The autoreload extension is already loaded. To reload it, use:\n",
      "  %reload_ext autoreload\n"
     ]
    }
   ],
   "source": [
    "# General import, names of train, test, val\n",
    "%load_ext autoreload\n",
    "%autoreload 2\n",
    "import numpy as np\n",
    "import pysam\n",
    "from tqdm.notebook import tqdm\n",
    "import h5py\n",
    "import pandas as pd\n",
    "import matplotlib.pyplot as plt\n",
    "rng = np.random.default_rng(seed=0)\n",
    "\n",
    "basedir = '/data/leslie/shared/ASA/'\n",
    "aligndir = f'{basedir}pseudodiploid/atac/'\n",
    "ctype = 'cd8'\n",
    "ident = '_vi_150bp_aug'     # ident is '' for you or whatever label you want to use for the h5 data you've generated\n",
    "\n",
    "datadir = f'{basedir}mouseASA/{ctype}/data/'\n",
    "chrom_train = [1,2,4,6,7,8,9,11,12,13,14,16,17,18,19]\n",
    "chrom_val = [3,5]\n",
    "chrom_test = [10,15]\n",
    "chroms = [chrom_train, chrom_val, chrom_test]\n",
    "name = ['train', 'val', 'test']\n",
    "\n",
    "reps = ['r1','r2','r3','r4','r5']\n",
    "seqlen = 300                         # region around summit for sequence\n",
    "seqlen1 = 150                        # region around summit for coverage\n",
    "save = True                          # failsafe to prevent unwanted overwriting"
   ]
  },
  {
   "cell_type": "markdown",
   "metadata": {},
   "source": [
    "# Preprocessing of Model Input"
   ]
  },
  {
   "cell_type": "code",
   "execution_count": 52,
   "metadata": {},
   "outputs": [],
   "source": [
    "import os\n",
    "# some utility functions\n",
    "from utils import get_summits, get_shifts, one_hot, GCregress\n",
    "\n",
    "# make data directory for the cell type - done ONCE\n",
    "if not os.path.exists(datadir):\n",
    "    os.makedirs(datadir)\n",
    "    # separate out replicate BAM files based on allele tag wA, to be used for pileup purposes\n",
    "    for rep in reps:\n",
    "        bamfile = aligndir+ctype+'/'+rep+'.combined.rmDup.Aligned.sortedByCoord.out.bam'\n",
    "        _ = pysam.index(bamfile)\n",
    "        bamf = pysam.AlignmentFile(bamfile, \"rb\")\n",
    "        temp1 = pysam.AlignmentFile(datadir+'bam/'+rep+'_b6.bam', 'wb', template=bamf)\n",
    "        temp2 = pysam.AlignmentFile(datadir+'bam/'+rep+'_cast.bam', 'wb', template=bamf)\n",
    "        temp3 = pysam.AlignmentFile(datadir+'bam/'+rep+'_both.bam', 'wb', template=bamf)\n",
    "        i=0\n",
    "        for read in bamf.fetch():\n",
    "            try:\n",
    "                idx = read.get_tag('wA')\n",
    "                if idx==0:\n",
    "                    temp1.write(read)\n",
    "                elif idx==1:\n",
    "                    temp2.write(read)\n",
    "                elif idx==2:\n",
    "                    temp3.write(read)\n",
    "            except:\n",
    "                i+=1\n",
    "        print(i)\n",
    "        temp1.close()\n",
    "        temp2.close()\n",
    "        temp3.close()\n",
    "        bamf.close()\n",
    "\n",
    "        _ = pysam.index(datadir+'bam/'+rep+'_b6.bam')\n",
    "        _ = pysam.index(datadir+'bam/'+rep+'_cast.bam')\n",
    "        _ = pysam.index(datadir+'bam/'+rep+'_both.bam')\n",
    "\n",
    "N = []\n",
    "for rep in reps:\n",
    "    bamfile = aligndir+ctype+'/'+rep+'.combined.rmDup.Aligned.sortedByCoord.out.bam'\n",
    "    bamf = pysam.AlignmentFile(bamfile, \"rb\")\n",
    "    N.append( sum([bamf.get_index_statistics()[i][1] for i in range(len(chrom_train+chrom_test+chrom_val))]) )\n",
    "    bamf.close()"
   ]
  },
  {
   "cell_type": "code",
   "execution_count": 53,
   "metadata": {},
   "outputs": [],
   "source": [
    "# process peakatlas file to get peaks dataframe\n",
    "if ident[:3]=='_vi':     # This is us using a peak atlas, you would be using the else clause here\n",
    "    summits = pd.read_csv(aligndir+'cd8_old/yi_cd8_peaks_33143.csv',sep=',',index_col=0)\n",
    "    summits['start'] += seqlen//2\n",
    "    summits = summits.iloc[:,1:3]\n",
    "    summits.columns = range(2)\n",
    "    summits_neg = pd.read_csv(aligndir+'cd8_old/yi_cd8_uneg_peaks_33143.csv',sep=',',index_col=0)\n",
    "    summits_neg['start'] += seqlen//2\n",
    "    summits_neg = summits_neg.iloc[:,1:3].reset_index(drop=True)\n",
    "    summits_neg.columns = range(2)\n",
    "else:\n",
    "    if ident=='_yi':\n",
    "        peakfile = aligndir+'cd8_old/peaks_yi.bed'\n",
    "    else:\n",
    "        peakfile = aligndir+ctype+'/peaks/peakatlas.bed'\n",
    "    peaks = pd.read_csv(peakfile, sep='\\t', header=None)\n",
    "\n",
    "    if not ident:\n",
    "        # filter peaks based on IDR threshold (column 12 of BED)\n",
    "        idr_thresh = 0.05\n",
    "        idx = np.where( peaks.iloc[:,11] >= -np.log10(idr_thresh) )[0]\n",
    "        peaks = peaks.loc[idx].reset_index(drop=True)\n",
    "\n",
    "    # remove blacklist regions - try with and without\n",
    "    blacklistfile = aligndir+'mm10-blacklist.v2.bed'\n",
    "    blacklist = pd.read_csv(blacklistfile, sep='\\t', header=None)\n",
    "    peaks = remove_blacklist(peaks, blacklist)\n",
    "\n",
    "    # get summits of called + flanking neg peaks (moving away from this to background unegs)\n",
    "    summits, summits_neg = get_summits(peaks)"
   ]
  },
  {
   "cell_type": "code",
   "execution_count": 4,
   "metadata": {
    "scrolled": true
   },
   "outputs": [],
   "source": [
    "# Code to shortlist negative flanking summits to low accessibility - not needed if you are doing background unegs\n",
    "# Shit code, haven't used in forever, might need overhauling\n",
    "if ident[:3]!='_vi':\n",
    "    # FOR UNEGS, get the shortlist of summits_neg that have low accessibility\n",
    "    # get indices for each rep\n",
    "    idx = dict()\n",
    "    for rep in tqdm(reps):\n",
    "        bamfile = aligndir+ctype+'/'+rep+'.combined.rmDup.Aligned.sortedByCoord.out.bam'\n",
    "        bamf = pysam.AlignmentFile(bamfile, \"rb\")\n",
    "\n",
    "        idx[rep] = []\n",
    "        for chrom in chroms[:2]:\n",
    "            for c in chrom:\n",
    "                chromsummits = summits_neg.loc[np.where(summits_neg[0]==c)[0]]\n",
    "                y_uneg = []\n",
    "                for i in chromsummits[1]:\n",
    "                    y_uneg.append(bamf.count(str(c),i-seqlen//2,i+seqlen//2))\n",
    "                idx[rep] += list(chromsummits.index[ np.where(np.array(y_uneg)<5)[0] ])\n",
    "        bamf.close()\n",
    "\n",
    "    del y_uneg\n",
    "    # get low accessibility indices across reps\n",
    "    temp = set(idx[reps[0]])\n",
    "    for rep in reps[1:]:\n",
    "        temp.intersection_update(idx[rep])\n",
    "    idx = list(temp)\n",
    "\n",
    "    # shortlist unegs to low accessibility indexes\n",
    "    summits_neg = summits_neg.loc[idx].reset_index(drop=True)\n",
    "    frac=0.5\n",
    "    if len(summits_neg) > frac*len(summits):\n",
    "        idx = rng.choice(len(summits_neg), int(frac*len(summits)), replace=False)\n",
    "        summits_neg = summits_neg.loc[idx].reset_index(drop=True)\n",
    "    summits_neg = summits_neg.sort_values(by=[0,1], ignore_index=True)\n",
    "\n",
    "    if save:\n",
    "        summits.to_csv(datadir+'summits'+ident+'.csv', index=False, header=False)\n",
    "        summits_neg.to_csv(datadir+'summits_neg'+ident+'.csv', index=False, header=False)"
   ]
  },
  {
   "cell_type": "code",
   "execution_count": 54,
   "metadata": {},
   "outputs": [],
   "source": [
    "# Augment the list of positive summits in train and val by randomly adding seqlen//3 shifts (100bp)\n",
    "# I'm experimenting with augmentation, you don't need this right now\n",
    "augment = False      # for augmentation of data by shifting sequence window\n",
    "\n",
    "if augment:\n",
    "    frac = 0.5    \n",
    "    # Randomly shift all the summits by + or - seqlen//3\n",
    "    summits_aug = summits.copy()\n",
    "    shifts = seqlen//3 * rng.choice([-1,1], len(summits), replace=True)\n",
    "    summits_aug[1] += shifts\n",
    "    # Get total number of summits to be augmented\n",
    "    temp = np.unique(summits[0], return_counts=True)\n",
    "    num_aug = int(frac*sum(temp[1][np.isin(temp[0],chrom_train+chrom_val)]))\n",
    "    # randomly choose the subset of summits to be augmented\n",
    "    idx = rng.choice(np.arange(len(summits)), num_aug, replace=False)\n",
    "    summits_aug = summits_aug.iloc[idx, :].reset_index(drop=True)\n",
    "    summits = pd.concat((summits, summits_aug)).reset_index(drop=True)"
   ]
  },
  {
   "cell_type": "code",
   "execution_count": 57,
   "metadata": {
    "scrolled": true
   },
   "outputs": [
    {
     "data": {
      "application/vnd.jupyter.widget-view+json": {
       "model_id": "9a02a4aaadbf4176abb52860c8a347fd",
       "version_major": 2,
       "version_minor": 0
      },
      "text/plain": [
       "  0%|          | 0/5 [00:00<?, ?it/s]"
      ]
     },
     "metadata": {},
     "output_type": "display_data"
    }
   ],
   "source": [
    "# Generate y\n",
    "# Use summits and BAM files to generate pileup summed accessibilities\n",
    "y = dict()\n",
    "for rep in tqdm(reps):\n",
    "    temp1 = pysam.AlignmentFile(datadir+'bam/'+rep+'_b6.bam', 'rb')\n",
    "    temp2 = pysam.AlignmentFile(datadir+'bam/'+rep+'_cast.bam', 'rb')\n",
    "    temp3 = pysam.AlignmentFile(datadir+'bam/'+rep+'_both.bam', 'rb')\n",
    "\n",
    "    for n,chrom in zip(name,chroms):\n",
    "        y[rep+'_'+n+'_b6'] = []\n",
    "        y[rep+'_'+n+'_cast'] = []\n",
    "\n",
    "        for c in chrom:        # for each chromosome in train/val/test set\n",
    "            chromsummits = summits.iloc[np.where(summits[0]==c)[0],1]     # slice out the relevant chromosome summits\n",
    "            y_b6 = []\n",
    "            y_cast = []\n",
    "            for i in chromsummits:\n",
    "                # for each summit peak, get the summed accessibility from BAM pileup\n",
    "                y1 = temp1.count(str(c),i-seqlen1//2,i+seqlen1//2)\n",
    "                y2 = temp2.count(str(c),i-seqlen1//2,i+seqlen1//2)\n",
    "                y3 = temp3.count(str(c),i-seqlen1//2,i+seqlen1//2)\n",
    "                y_b6.append(y1+y3/2)\n",
    "                y_cast.append(y2+y3/2)            \n",
    "            \n",
    "            y[rep+'_'+n+'_b6'] += y_b6\n",
    "            y[rep+'_'+n+'_cast'] += y_cast\n",
    "    \n",
    "    temp1.close()\n",
    "    temp2.close()\n",
    "    temp3.close()\n",
    "    \n",
    "del y_b6, y_cast, y1, y2, y3, chromsummits\n",
    "\n",
    "# merge RPMs across reps\n",
    "for n in name:\n",
    "    y[n+'_b6'] = np.zeros_like(y[rep+'_'+n+'_b6'])\n",
    "    y[n+'_cast'] = np.zeros_like(y[rep+'_'+n+'_cast'])\n",
    "    for i,rep in enumerate(reps):\n",
    "        y[n+'_b6'] += np.array(y[rep+'_'+n+'_b6'])*1e6/N[i]         # get summed RPMs\n",
    "        y[n+'_cast'] += np.array(y[rep+'_'+n+'_cast'])*1e6/N[i]     # get summed RPMs\n",
    "        del y[rep+'_'+n+'_b6'], y[rep+'_'+n+'_cast']\n",
    "    \n",
    "    y[n+'_b6'] = np.log2( 1+y[n+'_b6'] )                  # log normalize\n",
    "    y[n+'_cast'] = np.log2( 1+y[n+'_cast'] )                  # log normalize"
   ]
  },
  {
   "cell_type": "code",
   "execution_count": 61,
   "metadata": {},
   "outputs": [
    {
     "data": {
      "application/vnd.jupyter.widget-view+json": {
       "model_id": "2729c62683664c3b8d87d5cc304dd8c5",
       "version_major": 2,
       "version_minor": 0
      },
      "text/plain": [
       "  0%|          | 0/15 [00:00<?, ?it/s]"
      ]
     },
     "metadata": {},
     "output_type": "display_data"
    },
    {
     "data": {
      "application/vnd.jupyter.widget-view+json": {
       "model_id": "89c0ac1ec2374d8b98574fcdfba6f13d",
       "version_major": 2,
       "version_minor": 0
      },
      "text/plain": [
       "  0%|          | 0/2 [00:00<?, ?it/s]"
      ]
     },
     "metadata": {},
     "output_type": "display_data"
    },
    {
     "data": {
      "application/vnd.jupyter.widget-view+json": {
       "model_id": "d7f23d508a064e098cf18c591dea382b",
       "version_major": 2,
       "version_minor": 0
      },
      "text/plain": [
       "  0%|          | 0/2 [00:00<?, ?it/s]"
      ]
     },
     "metadata": {},
     "output_type": "display_data"
    }
   ],
   "source": [
    "# Generate X\n",
    "# Get coordinate shifts for the cast corresponding to the summits in b6 coords, and prepare input homologous peak sequences X\n",
    "import gzip\n",
    "from Bio import SeqIO\n",
    "from bisect import bisect\n",
    "\n",
    "gen_b6 = SeqIO.index(f'{basedir}pseudodiploid/gen/b6.fa', 'fasta')\n",
    "gen_cast = SeqIO.index(f'{basedir}pseudodiploid/gen/cast.fa', 'fasta')\n",
    "\n",
    "modfile = f'{basedir}pseudodiploid/gen/cast.mod'\n",
    "with gzip.open(modfile,'rt') as f:\n",
    "    mods = f.read().split('\\n')\n",
    "    mods = [x for x in mods if not (x.startswith('s') or x.startswith('#'))][:-1]            # filter out SNPs and header lines\n",
    "\n",
    "x = dict()\n",
    "for n,chrom in zip(name,chroms):\n",
    "    x[n+'_b6'] = []\n",
    "    x[n+'_cast'] = []\n",
    "    if n!='test' and summits_neg:\n",
    "        x[n+'_b6_unegs'] = []\n",
    "        x[n+'_cast_unegs'] = []\n",
    "\n",
    "    for c in tqdm(chrom):        # for each chromosome in train/val/test set\n",
    "        seq_b6 = ''.join(gen_b6.get_raw(str(c)).decode().split('\\n')[1:])\n",
    "        seq_cast = ''.join(gen_cast.get_raw(str(c)).decode().split('\\n')[1:])\n",
    "\n",
    "        chromsummits = summits.iloc[np.where(summits[0]==c)[0],1]     # slice out the relevant chromosome summits\n",
    "        cast_shifts = get_shifts(chromsummits, mods, c)\n",
    "\n",
    "        # get relevant b6 genomic seqs\n",
    "        x[n+'_b6'] += [seq_b6[i-seqlen//2:i+seqlen//2] for i in chromsummits]\n",
    "        # add corresponding cast genomic seqs\n",
    "        x[n+'_cast'] += [seq_cast[i+j-seqlen//2:i+j+seqlen//2] for i,j in zip(chromsummits,cast_shifts)]\n",
    "\n",
    "        if n!='test' and summits_neg:\n",
    "            chromsummits = summits_neg.loc[np.where(summits_neg[0]==c)[0],1]     # slice out the relevant chromosome summits\n",
    "            x[n+'_b6_unegs'] += [seq_b6[i-seqlen//2:i+seqlen//2] for i in chromsummits]\n",
    "            cast_shifts = get_shifts(chromsummits, mods, c)\n",
    "            x[n+'_cast_unegs'] += [seq_cast[i+j-seqlen//2:i+j+seqlen//2] for i,j in zip(chromsummits,cast_shifts)]\n",
    "\n",
    "    x[n+'_b6'] = one_hot(x[n+'_b6'])             # convert string of nucleotides to one-hot representation\n",
    "    x[n+'_cast'] = one_hot(x[n+'_cast'])\n",
    "    if n!='test' and summits_neg:\n",
    "        x[n+'_b6_unegs'] = one_hot(x[n+'_b6_unegs'])\n",
    "        x[n+'_cast_unegs'] = one_hot(x[n+'_cast_unegs'])"
   ]
  },
  {
   "cell_type": "code",
   "execution_count": 8,
   "metadata": {},
   "outputs": [
    {
     "data": {
      "application/vnd.jupyter.widget-view+json": {
       "model_id": "98618e254ce2402fb711cad2ca887feb",
       "version_major": 2,
       "version_minor": 0
      },
      "text/plain": [
       "  0%|          | 0/15 [00:00<?, ?it/s]"
      ]
     },
     "metadata": {},
     "output_type": "display_data"
    },
    {
     "data": {
      "application/vnd.jupyter.widget-view+json": {
       "model_id": "8788bffdb6264154bcec44ac0118f58a",
       "version_major": 2,
       "version_minor": 0
      },
      "text/plain": [
       "  0%|          | 0/2 [00:00<?, ?it/s]"
      ]
     },
     "metadata": {},
     "output_type": "display_data"
    }
   ],
   "source": [
    "# new code for actual background unegs - can be merged into x code later - SKIP till SKIP END if dont need to compute\n",
    "# written very stupidly, basically just overwrite the old unegs\n",
    "# this is because I didn't want to write logic to do one or the other depending on which method of unegs you want\n",
    "from utils import get_neg_summits\n",
    "\n",
    "bamfile = aligndir+ctype+'/'+reps[0]+'.combined.rmDup.Aligned.sortedByCoord.out.bam'\n",
    "bamf = pysam.AlignmentFile(bamfile, \"rb\")\n",
    "\n",
    "for n,chrom in zip(name,chroms[:2]):\n",
    "    x[n+'_b6_unegs'] = []\n",
    "    x[n+'_cast_unegs'] = []\n",
    "    \n",
    "    for c in tqdm(chrom):        # for each chromosome in train/val/test set\n",
    "        seq_b6 = ''.join(gen_b6.get_raw(str(c)).decode().split('\\n')[1:])\n",
    "        seq_cast = ''.join(gen_cast.get_raw(str(c)).decode().split('\\n')[1:])\n",
    "        \n",
    "        chromsummits = summits.iloc[np.where(summits[0]==c)[0],1]     # slice out the relevant chromosome summits\n",
    "        neg_summits = np.empty(0, dtype=np.int64)\n",
    "        while len(neg_summits)<len(chromsummits):     # get neg summits and only keep low coverage ones (<5)\n",
    "            temp = get_neg_summits(chromsummits, len(chromsummits)-len(neg_summits), len(seq_b6))\n",
    "            idx = np.where(np.array([bamf.count(str(c),i-seqlen//2,i+seqlen//2) for i in temp]) < 5)[0]\n",
    "            temp = temp[idx]\n",
    "            neg_summits = np.concatenate((neg_summits, temp))\n",
    "        neg_summits = np.sort(neg_summits)\n",
    "        \n",
    "        # get relevant b6 genomic seqs\n",
    "        x[n+'_b6_unegs'] += [seq_b6[i-seqlen//2:i+seqlen//2] for i in neg_summits]\n",
    "        cast_shifts = get_shifts(neg_summits, mods, c)\n",
    "        x[n+'_cast_unegs'] += [seq_cast[i+j-seqlen//2:i+j+seqlen//2] for i,j in zip(neg_summits,cast_shifts)]\n",
    "        \n",
    "    x[n+'_b6_unegs'] = one_hot(x[n+'_b6_unegs'])\n",
    "    x[n+'_cast_unegs'] = one_hot(x[n+'_cast_unegs'])\n",
    "# SKIP END - comment upto here if you want to skip the background sampling and go with flank regions instead\n",
    "\n",
    "gen_b6.close()\n",
    "gen_cast.close()\n",
    "\n",
    "# set uneg log acc to low constant value (at tail end of post-GC residual accessibility distribution)\n",
    "for n,chrom in zip(name[:2],chroms[:2]):\n",
    "    y[n+'_unegs'] = -5.0*np.ones(len(x[n+'_b6_unegs']))\n",
    "\n",
    "# Finally, save everything...\n",
    "if save:\n",
    "    with h5py.File(datadir+'data_noGC'+ident+'.h5','w') as f:\n",
    "        for key in x.keys():\n",
    "            f.create_dataset('x_'+key, data=x[key])\n",
    "        for key in y.keys():\n",
    "            f.create_dataset('y_'+key, data=y[key])"
   ]
  },
  {
   "cell_type": "code",
   "execution_count": 83,
   "metadata": {
    "scrolled": false
   },
   "outputs": [
    {
     "data": {
      "image/png": "[encoded data removed]",
      "text/plain": [
       "<Figure size 576x576 with 1 Axes>"
      ]
     },
     "metadata": {
      "needs_background": "light"
     },
     "output_type": "display_data"
    }
   ],
   "source": [
    "# Visualize the training data allele-specific coverage\n",
    "fig = plt.figure(figsize=(8,8))\n",
    "ax = fig.add_subplot()\n",
    "\n",
    "ax.scatter(y['train_b6'],y['train_cast'], s=4)\n",
    "plt.title('Summit-centered accessibility')\n",
    "ax.set_xlabel('b6 accessibility')\n",
    "ax.set_ylabel('cast accessibility')\n",
    "plt.show()"
   ]
  },
  {
   "cell_type": "markdown",
   "metadata": {},
   "source": [
    "## Perform GC regression"
   ]
  },
  {
   "cell_type": "code",
   "execution_count": 82,
   "metadata": {},
   "outputs": [],
   "source": [
    "# Start afresh, load your noGC data\n",
    "x = dict()\n",
    "y = dict()\n",
    "with h5py.File(datadir+'data_noGC'+ident+'.h5','r') as f:\n",
    "    for n in name:\n",
    "        for allele in ['b6','cast']:\n",
    "            x[n+'_'+allele] = f['x_'+n+'_'+allele][()]\n",
    "            y[n+'_'+allele] = f['y_'+n+'_'+allele][()]\n",
    "            if n!='test':\n",
    "                x[n+'_'+allele+'_unegs'] = f['x_'+n+'_'+allele+'_unegs'][()]\n",
    "        if n!='test':\n",
    "            y[n+'_unegs'] = f['y_'+n+'_unegs'][()]"
   ]
  },
  {
   "cell_type": "code",
   "execution_count": 70,
   "metadata": {},
   "outputs": [
    {
     "data": {
      "image/png": "[encoded data removed]",
      "text/plain": [
       "<Figure size 720x360 with 1 Axes>"
      ]
     },
     "metadata": {
      "needs_background": "light"
     },
     "output_type": "display_data"
    }
   ],
   "source": [
    "# Visualize the GC-count relationship\n",
    "fig = plt.figure(figsize=(10,5))\n",
    "ax = fig.add_subplot()\n",
    "\n",
    "temp_x = np.vstack([x[k] for k in x.keys() if 'unegs' not in k])\n",
    "temp_y = np.concatenate([y[k] for k in y.keys() if 'unegs' not in k])\n",
    "GC = np.sum(temp_x[:,(seqlen//2-seqlen1//2):(seqlen//2+seqlen1//2),:], axis=1)\n",
    "GC = GC[:,1]+GC[:,2]\n",
    "ax.scatter(GC/seqlen1*100, temp_y, s=4)\n",
    "coef = GCregress(temp_x[:,(seqlen//2-seqlen1//2):(seqlen//2+seqlen1//2),:], temp_y)    # limit GC counting to only the window where reads are counted\n",
    "temp_y -= coef*GC\n",
    "ax.scatter(GC/seqlen1*100, temp_y, s=4)\n",
    "ax.set_xlabel('GC content (%)')\n",
    "ax.set_ylabel('log accessibility')\n",
    "plt.show()"
   ]
  },
  {
   "cell_type": "code",
   "execution_count": 71,
   "metadata": {},
   "outputs": [],
   "source": [
    "# Regress out GC content\n",
    "temp_x = np.vstack([x[k] for k in x.keys() if 'unegs' not in k])      # don't use uneg sequence trends for bias correction\n",
    "temp_y = np.concatenate([y[k] for k in y.keys() if 'unegs' not in k])\n",
    "coef = GCregress(temp_x[:,(seqlen//2-seqlen1//2):(seqlen//2+seqlen1//2),:], temp_y)    # limit GC counting to only the window where reads are counted\n",
    "\n",
    "for n in name:\n",
    "    for allele in ['b6','cast']:\n",
    "        GC = np.sum(x[n+'_'+allele][:,(seqlen//2-seqlen1//2):(seqlen//2+seqlen1//2),:], axis=1)\n",
    "        GC = GC[:,1]+GC[:,2]\n",
    "        y[n+'_'+allele] -= coef*GC"
   ]
  },
  {
   "cell_type": "code",
   "execution_count": 81,
   "metadata": {},
   "outputs": [
    {
     "name": "stderr",
     "output_type": "stream",
     "text": [
      "/scratch/lsftmp/18913359.tmpdir/ipykernel_29653/2288240824.py:4: UserWarning: No data for colormapping provided via 'c'. Parameters 'vmin', 'vmax' will be ignored\n",
      "  ax.scatter(y['train_b6'], y['train_cast'],\n"
     ]
    },
    {
     "data": {
      "image/png": "[encoded data removed]",
      "text/plain": [
       "<Figure size 576x576 with 1 Axes>"
      ]
     },
     "metadata": {
      "needs_background": "light"
     },
     "output_type": "display_data"
    }
   ],
   "source": [
    "# Visualize GC regressed data\n",
    "fig = plt.figure(figsize=(8,8))\n",
    "ax = fig.add_subplot()\n",
    "\n",
    "ax.scatter(y['train_b6'], y['train_cast'],\n",
    "            vmax = 2, vmin = -2, s = 4)\n",
    "plt.title('Summit-centered accessibility')\n",
    "ax.set_xlabel('residual b6 accessibility')\n",
    "ax.set_ylabel('residual cast accessibility')\n",
    "plt.show()"
   ]
  },
  {
   "cell_type": "code",
   "execution_count": null,
   "metadata": {},
   "outputs": [],
   "source": [
    "## Seeing the distribution above, you might want to change the uneg constant value, which you can do with this code\n",
    "# print(np.unique(y['train_unegs']))\n",
    "# y['train_unegs']-= some_value\n",
    "# y['val_unegs']-= some_value"
   ]
  },
  {
   "cell_type": "code",
   "execution_count": 73,
   "metadata": {},
   "outputs": [],
   "source": [
    "# Save everything to new file to be used by the model. A good sanity check is to see if your uneg data is the same\n",
    "if save:\n",
    "    with h5py.File(datadir+'data'+ident+'.h5','w') as f:\n",
    "        for key in x.keys():\n",
    "            f.create_dataset('x_'+key, data=x[key])\n",
    "        for key in y.keys():\n",
    "            f.create_dataset('y_'+key, data=y[key])"
   ]
  }
 ],
 "metadata": {
  "interpreter": {
   "hash": "0f07b599dba35ea3e3431fe483080f9a2b540e1c33071a57a1e300447d2107f4"
  },
  "kernelspec": {
   "display_name": "Python 3 (ipykernel)",
   "language": "python",
   "name": "python3"
  },
  "language_info": {
   "codemirror_mode": {
    "name": "ipython",
    "version": 3
   },
   "file_extension": ".py",
   "mimetype": "text/x-python",
   "name": "python",
   "nbconvert_exporter": "python",
   "pygments_lexer": "ipython3",
   "version": "3.8.3"
  }
 },
 "nbformat": 4,
 "nbformat_minor": 2
}
