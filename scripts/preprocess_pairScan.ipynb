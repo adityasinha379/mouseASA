{
 "cells": [
  {
   "cell_type": "code",
   "execution_count": 1,
   "metadata": {},
   "outputs": [],
   "source": [
    "# General import, names of train, test, val\n",
    "%load_ext autoreload\n",
    "%autoreload 2\n",
    "import numpy as np\n",
    "import pysam\n",
    "from tqdm.notebook import tqdm\n",
    "import h5py\n",
    "import pandas as pd\n",
    "import matplotlib.pyplot as plt\n",
    "\n",
    "basedir = '/data/leslie/shared/ASA/'\n",
    "aligndir = basedir+'pseudodiploid/'\n",
    "ctype = 'cd8'\n",
    "ident = '_vi_150bp'\n",
    "\n",
    "datadir = basedir+'mouseASA/data/'+ctype+'/'\n",
    "chrom_train = [1,2,4,6,7,8,9,11,12,13,14,16,17,18,19]\n",
    "chrom_val = [3,5]\n",
    "chrom_test = [10,15]\n",
    "chroms = [chrom_train, chrom_val, chrom_test]\n",
    "name = ['train', 'val', 'test']\n",
    "\n",
    "reps = ['r1','r2','r3','r4','r5']\n",
    "seqlen = 300                         # region around summit for sequence\n",
    "seqlen1 = 150                        # region around summit for coverage\n",
    "save = True"
   ]
  },
  {
   "cell_type": "markdown",
   "metadata": {},
   "source": [
    "# Preprocessing of Model Input"
   ]
  },
  {
   "cell_type": "code",
   "execution_count": 2,
   "metadata": {},
   "outputs": [],
   "source": [
    "import os\n",
    "# some utility functions\n",
    "from utils import get_summits, get_shifts, one_hot, GCregress\n",
    "\n",
    "# make data directory for the cell type\n",
    "if not os.path.exists(datadir):\n",
    "    os.makedirs(datadir)\n",
    "    # separate out replicate BAM files based on allele tag wA, to be used for pileup purposes\n",
    "    for rep in reps:\n",
    "        bamfile = aligndir+ctype+'/'+rep+'.combined.rmDup.Aligned.sortedByCoord.out.bam'\n",
    "        _ = pysam.index(bamfile)\n",
    "        bamf = pysam.AlignmentFile(bamfile, \"rb\")\n",
    "        temp1 = pysam.AlignmentFile(datadir+'bam/'+rep+'_b6.bam', 'wb', template=bamf)\n",
    "        temp2 = pysam.AlignmentFile(datadir+'bam/'+rep+'_cast.bam', 'wb', template=bamf)\n",
    "        temp3 = pysam.AlignmentFile(datadir+'bam/'+rep+'_both.bam', 'wb', template=bamf)\n",
    "        i=0\n",
    "        for read in bamf.fetch():\n",
    "            try:\n",
    "                idx = read.get_tag('wA')\n",
    "                if idx==0:\n",
    "                    temp1.write(read)\n",
    "                elif idx==1:\n",
    "                    temp2.write(read)\n",
    "                elif idx==2:\n",
    "                    temp3.write(read)\n",
    "            except:\n",
    "                i+=1\n",
    "        print(i)\n",
    "        temp1.close()\n",
    "        temp2.close()\n",
    "        temp3.close()\n",
    "        bamf.close()\n",
    "\n",
    "        _ = pysam.index(datadir+'bam/'+rep+'_b6.bam')\n",
    "        _ = pysam.index(datadir+'bam/'+rep+'_cast.bam')\n",
    "        _ = pysam.index(datadir+'bam/'+rep+'_both.bam')\n",
    "\n",
    "N = []\n",
    "for rep in reps:\n",
    "    bamfile = aligndir+ctype+'/'+rep+'.combined.rmDup.Aligned.sortedByCoord.out.bam'\n",
    "    bamf = pysam.AlignmentFile(bamfile, \"rb\")\n",
    "    N.append( sum([bamf.get_index_statistics()[i][1] for i in range(len(chrom_train+chrom_test+chrom_val))]) )\n",
    "    bamf.close()"
   ]
  },
  {
   "cell_type": "code",
   "execution_count": 3,
   "metadata": {},
   "outputs": [],
   "source": [
    "# process peakatlas file to get peaks dataframe\n",
    "if ident[:3]=='_vi':\n",
    "    summits = pd.read_csv(aligndir+'cd8_old/yi_cd8_peaks_33143.csv',sep=',',index_col=0)\n",
    "    summits['start'] += 150\n",
    "    temp = summits.iloc[:,0]\n",
    "    summits = summits.iloc[:,1:3]\n",
    "    summits.columns = range(2)\n",
    "    summits_neg = pd.read_csv(aligndir+'cd8_old/yi_cd8_uneg_peaks_33143.csv',sep=',',index_col=0)\n",
    "    summits_neg['start'] += 150\n",
    "    summits_neg = summits_neg.iloc[:,1:3].reset_index(drop=True)\n",
    "    summits_neg.columns = range(2)\n",
    "else:\n",
    "    if ident=='_yi':\n",
    "        peakfile = aligndir+'cd8_old/peaks_yi.bed'\n",
    "    else:\n",
    "        peakfile = aligndir+ctype+'/peaks/peakatlas.bed'\n",
    "    peaks = pd.read_csv(peakfile, sep='\\t', header=None)\n",
    "\n",
    "    if not ident:\n",
    "        # filter peaks based on IDR threshold (column 12 of BED)\n",
    "        idr_thresh = 0.05\n",
    "        idx = np.where( peaks.iloc[:,11] >= -np.log10(idr_thresh) )[0]\n",
    "        peaks = peaks.loc[idx].reset_index(drop=True)\n",
    "\n",
    "    # remove blacklist regions\n",
    "    # blacklistfile = aligndir+'mm10-blacklist.v2.bed'\n",
    "    # blacklist = pd.read_csv(blacklistfile, sep='\\t', header=None)\n",
    "    # peaks = remove_blacklist(peaks, blacklist)\n",
    "\n",
    "    # get summits of called + flanking neg peaks\n",
    "    summits, summits_neg = get_summits(peaks)"
   ]
  },
  {
   "cell_type": "code",
   "execution_count": 4,
   "metadata": {
    "scrolled": true
   },
   "outputs": [],
   "source": [
    "# Shit code, overhaul later\n",
    "# if ident[:3]!='_vi':\n",
    "#     # FOR UNEGS, get the shortlist of summits_neg that have low accessibility\n",
    "#     # get indices for each rep\n",
    "#     idx = dict()\n",
    "#     for rep in tqdm(reps):\n",
    "#         bamfile = aligndir+ctype+'/'+rep+'.combined.rmDup.Aligned.sortedByCoord.out.bam'\n",
    "#         bamf = pysam.AlignmentFile(bamfile, \"rb\")\n",
    "\n",
    "#         idx[rep] = []\n",
    "#         for chrom in chroms[:2]:\n",
    "#             for c in chrom:\n",
    "#                 chromsummits = summits_neg.loc[np.where(summits_neg[0]==c)[0]]\n",
    "#                 y_uneg = []\n",
    "#                 for i in chromsummits[1]:\n",
    "#                     y_uneg.append(bamf.count(str(c),i-seqlen//2,i+seqlen//2))\n",
    "#                 idx[rep] += list(chromsummits.index[ np.where(np.array(y_uneg)<5)[0] ])\n",
    "#         bamf.close()\n",
    "\n",
    "#     del y_uneg\n",
    "#     # get low accessibility indices across reps\n",
    "#     temp = set(idx[reps[0]])\n",
    "#     for rep in reps[1:]:\n",
    "#         temp.intersection_update(idx[rep])\n",
    "#     idx = list(temp)\n",
    "\n",
    "#     # shortlist unegs to low accessibility indexes\n",
    "#     summits_neg = summits_neg.loc[idx].reset_index(drop=True)\n",
    "#     frac=0.5\n",
    "#     if len(summits_neg) > frac*len(summits):\n",
    "#         idx = np.random.choice(len(summits_neg), int(frac*len(summits)), replace=False)\n",
    "#         summits_neg = summits_neg.loc[idx].reset_index(drop=True)\n",
    "#     summits_neg = summits_neg.sort_values(by=[0,1], ignore_index=True)\n",
    "\n",
    "#     if save:\n",
    "#         summits.to_csv(datadir+'summits'+ident+'.csv', index=False, header=False)\n",
    "#         summits_neg.to_csv(datadir+'summits_neg'+ident+'.csv', index=False, header=False)"
   ]
  },
  {
   "cell_type": "code",
   "execution_count": 5,
   "metadata": {
    "scrolled": true
   },
   "outputs": [
    {
     "data": {
      "application/vnd.jupyter.widget-view+json": {
       "model_id": "597a9700a5f8441eb4c707328a2813c6",
       "version_major": 2,
       "version_minor": 0
      },
      "text/plain": [
       "  0%|          | 0/5 [00:00<?, ?it/s]"
      ]
     },
     "metadata": {},
     "output_type": "display_data"
    }
   ],
   "source": [
    "# Generate y\n",
    "# Use summits and BAM files to generate pileup summed accessibilities\n",
    "y = dict()\n",
    "for rep in tqdm(reps):\n",
    "    temp1 = pysam.AlignmentFile(datadir+'bam/'+rep+'_b6.bam', 'rb')\n",
    "    temp2 = pysam.AlignmentFile(datadir+'bam/'+rep+'_cast.bam', 'rb')\n",
    "    temp3 = pysam.AlignmentFile(datadir+'bam/'+rep+'_both.bam', 'rb')\n",
    "\n",
    "    for n,chrom in zip(name,chroms):\n",
    "        y[rep+'_'+n+'_b6'] = []\n",
    "        y[rep+'_'+n+'_cast'] = []\n",
    "\n",
    "        for c in chrom:        # for each chromosome in train/val/test set\n",
    "            chromsummits = summits.loc[np.where(summits[0]==c)[0],1]     # slice out the relevant chromosome summits\n",
    "            y_b6 = []\n",
    "            y_cast = []\n",
    "            for i in chromsummits:\n",
    "                # for each summit peak, get the summed accessibility from BAM pileup\n",
    "                y1 = temp1.count(str(c),i-seqlen1//2,i+seqlen1//2)\n",
    "                y2 = temp2.count(str(c),i-seqlen1//2,i+seqlen1//2)\n",
    "                y3 = temp3.count(str(c),i-seqlen1//2,i+seqlen1//2)\n",
    "                y_b6.append(y1+y3/2)\n",
    "                y_cast.append(y2+y3/2)            \n",
    "            \n",
    "            y[rep+'_'+n+'_b6'] += y_b6\n",
    "            y[rep+'_'+n+'_cast'] += y_cast\n",
    "    \n",
    "    temp1.close()\n",
    "    temp2.close()\n",
    "    temp3.close()\n",
    "    \n",
    "del y_b6, y_cast, y1, y2, y3, chromsummits\n",
    "\n",
    "# merge RPMs across reps\n",
    "for n in name:\n",
    "    y[n+'_b6'] = np.zeros_like(y[rep+'_'+n+'_b6'])\n",
    "    y[n+'_cast'] = np.zeros_like(y[rep+'_'+n+'_cast'])\n",
    "    for i,rep in enumerate(reps):\n",
    "        y[n+'_b6'] += np.array(y[rep+'_'+n+'_b6'])*1e6/N[i]\n",
    "        y[n+'_cast'] += np.array(y[rep+'_'+n+'_cast'])*1e6/N[i]\n",
    "        del y[rep+'_'+n+'_b6'], y[rep+'_'+n+'_cast']\n",
    "\n",
    "for n in name:\n",
    "    y[n+'_b6'] = np.log2( 1+y[n+'_b6'] )                  # normalize summed counts to RPM\n",
    "    y[n+'_cast'] = np.log2( 1+y[n+'_cast'] )                  # normalize summed counts to RPM\n",
    "\n",
    "# set uneg log acc to low constant value\n",
    "for n,chrom in zip(name[:2],chroms[:2]):\n",
    "    y[n+'_unegs'] = -5.0*np.ones(len(summits_neg.loc[np.where(summits_neg[0].isin(chrom))[0]]))\n",
    "\n",
    "if save:\n",
    "    with h5py.File(datadir+'data_noGC'+ident+'.h5','w') as f:\n",
    "        for key in y.keys():\n",
    "            f.create_dataset('y_'+key, data=y[key])"
   ]
  },
  {
   "cell_type": "code",
   "execution_count": 8,
   "metadata": {},
   "outputs": [
    {
     "data": {
      "application/vnd.jupyter.widget-view+json": {
       "model_id": "98618e254ce2402fb711cad2ca887feb",
       "version_major": 2,
       "version_minor": 0
      },
      "text/plain": [
       "  0%|          | 0/15 [00:00<?, ?it/s]"
      ]
     },
     "metadata": {},
     "output_type": "display_data"
    },
    {
     "data": {
      "application/vnd.jupyter.widget-view+json": {
       "model_id": "8788bffdb6264154bcec44ac0118f58a",
       "version_major": 2,
       "version_minor": 0
      },
      "text/plain": [
       "  0%|          | 0/2 [00:00<?, ?it/s]"
      ]
     },
     "metadata": {},
     "output_type": "display_data"
    }
   ],
   "source": [
    "# new code for actual background unegs - can be merged into x code later\n",
    "import gzip\n",
    "from Bio import SeqIO\n",
    "from bisect import bisect\n",
    "from utils import get_neg_summits\n",
    "\n",
    "# gen_b6 = SeqIO.index(aligndir+'gen/b6.fa', 'fasta')\n",
    "# gen_cast = SeqIO.index(aligndir+'gen/cast.fa', 'fasta')\n",
    "\n",
    "# modfile = aligndir+'gen/cast.mod'\n",
    "# with gzip.open(modfile,'rt') as f:\n",
    "#     mods = f.read().split('\\n')\n",
    "#     mods = [x for x in mods if not (x.startswith('s') or x.startswith('#'))][:-1]\n",
    "\n",
    "x = dict()\n",
    "bamfile = aligndir+ctype+'/'+reps[0]+'.combined.rmDup.Aligned.sortedByCoord.out.bam'\n",
    "bamf = pysam.AlignmentFile(bamfile, \"rb\")\n",
    "\n",
    "for n,chrom in zip(name,chroms[:2]):\n",
    "    x[n+'_b6_unegs'] = []\n",
    "    x[n+'_cast_unegs'] = []\n",
    "    \n",
    "    for c in tqdm(chrom):        # for each chromosome in train/val/test set\n",
    "        seq_b6 = ''.join(gen_b6.get_raw(str(c)).decode().split('\\n')[1:])\n",
    "        seq_cast = ''.join(gen_cast.get_raw(str(c)).decode().split('\\n')[1:])\n",
    "        \n",
    "        chromsummits = summits.loc[np.where(summits[0]==c)[0],1]     # slice out the relevant chromosome summits\n",
    "        neg_summits = np.empty(0, dtype=np.int64)\n",
    "        while len(neg_summits)<len(chromsummits):\n",
    "            temp = get_neg_summits(chromsummits, len(chromsummits)-len(neg_summits), len(seq_b6))\n",
    "            idx = np.where(np.array([bamf.count(str(c),i-seqlen//2,i+seqlen//2) for i in temp]) < 5)[0]\n",
    "            temp = temp[idx]\n",
    "            neg_summits = np.concatenate((neg_summits, temp))\n",
    "        neg_summits = np.sort(neg_summits)\n",
    "        \n",
    "        # get relevant b6 genomic seqs\n",
    "        x[n+'_b6_unegs'] += [seq_b6[i-seqlen//2:i+seqlen//2] for i in neg_summits]\n",
    "        cast_shifts = get_shifts(neg_summits, mods, c)\n",
    "        x[n+'_cast_unegs'] += [seq_cast[i+j-seqlen//2:i+j+seqlen//2] for i,j in zip(neg_summits,cast_shifts)]\n",
    "        \n",
    "    x[n+'_b6_unegs'] = one_hot(x[n+'_b6_unegs'])\n",
    "    x[n+'_cast_unegs'] = one_hot(x[n+'_cast_unegs'])\n",
    "\n",
    "gen_b6.close()\n",
    "gen_cast.close()\n",
    "\n",
    "if save:\n",
    "    with h5py.File(datadir+'data'+ident+'.h5','a') as f:\n",
    "        for key in x.keys():\n",
    "            f['x_'+key][...] = x[key]"
   ]
  },
  {
   "cell_type": "code",
   "execution_count": 7,
   "metadata": {},
   "outputs": [
    {
     "data": {
      "application/vnd.jupyter.widget-view+json": {
       "model_id": "1e064c35e3ef41089e33c179a0fb3887",
       "version_major": 2,
       "version_minor": 0
      },
      "text/plain": [
       "  0%|          | 0/15 [00:00<?, ?it/s]"
      ]
     },
     "metadata": {},
     "output_type": "display_data"
    },
    {
     "data": {
      "application/vnd.jupyter.widget-view+json": {
       "model_id": "c4510f039920450e8ca2f65c6ff0d6d1",
       "version_major": 2,
       "version_minor": 0
      },
      "text/plain": [
       "  0%|          | 0/2 [00:00<?, ?it/s]"
      ]
     },
     "metadata": {},
     "output_type": "display_data"
    },
    {
     "data": {
      "application/vnd.jupyter.widget-view+json": {
       "model_id": "aa0e429d70d04d98be6c9035bfaaf9de",
       "version_major": 2,
       "version_minor": 0
      },
      "text/plain": [
       "  0%|          | 0/2 [00:00<?, ?it/s]"
      ]
     },
     "metadata": {},
     "output_type": "display_data"
    }
   ],
   "source": [
    "# Generate X\n",
    "# Get coordinate shifts for the cast genome corresponding to the summits in b6 coords, and prepare input homologous peak sequences X\n",
    "import gzip\n",
    "from Bio import SeqIO\n",
    "\n",
    "gen_b6 = SeqIO.index(aligndir+'gen/b6.fa', 'fasta')\n",
    "gen_cast = SeqIO.index(aligndir+'gen/cast.fa', 'fasta')\n",
    "\n",
    "modfile = aligndir+'gen/cast.mod'\n",
    "with gzip.open(modfile,'rt') as f:\n",
    "    mods = f.read().split('\\n')\n",
    "    mods = [x for x in mods if not (x.startswith('s') or x.startswith('#'))][:-1]            # filter out SNPs and header lines\n",
    "\n",
    "x = dict()\n",
    "for n,chrom in zip(name,chroms):\n",
    "    x[n+'_b6'] = []\n",
    "    x[n+'_cast'] = []\n",
    "    if n!='test':\n",
    "        x[n+'_b6_unegs'] = []\n",
    "        x[n+'_cast_unegs'] = []\n",
    "\n",
    "    for c in tqdm(chrom):        # for each chromosome in train/val/test set\n",
    "        seq_b6 = ''.join(gen_b6.get_raw(str(c)).decode().split('\\n')[1:])\n",
    "        seq_cast = ''.join(gen_cast.get_raw(str(c)).decode().split('\\n')[1:])\n",
    "\n",
    "        chromsummits = summits.loc[np.where(summits[0]==c)[0],1]     # slice out the relevant chromosome summits\n",
    "        cast_shifts = get_shifts(chromsummits, mods, c)\n",
    "\n",
    "        # get relevant b6 genomic seqs\n",
    "        x[n+'_b6'] += [seq_b6[i-seqlen//2:i+seqlen//2] for i in chromsummits]\n",
    "        # add corresponding cast genomic seqs\n",
    "        x[n+'_cast'] += [seq_cast[i+j-seqlen//2:i+j+seqlen//2] for i,j in zip(chromsummits,cast_shifts)]\n",
    "\n",
    "        if n!='test':\n",
    "            chromsummits = summits_neg.loc[np.where(summits_neg[0]==c)[0],1]     # slice out the relevant chromosome summits\n",
    "            x[n+'_b6_unegs'] += [seq_b6[i-seqlen//2:i+seqlen//2] for i in chromsummits]\n",
    "            cast_shifts = get_shifts(chromsummits, mods, c)\n",
    "            x[n+'_cast_unegs'] += [seq_cast[i+j-seqlen//2:i+j+seqlen//2] for i,j in zip(chromsummits,cast_shifts)]\n",
    "\n",
    "    x[n+'_b6'] = one_hot(x[n+'_b6'])             # convert string of nucleotides to one-hot representation\n",
    "    x[n+'_cast'] = one_hot(x[n+'_cast'])\n",
    "    if n!='test':\n",
    "        x[n+'_b6_unegs'] = one_hot(x[n+'_b6_unegs'])\n",
    "        x[n+'_cast_unegs'] = one_hot(x[n+'_cast_unegs'])\n",
    "\n",
    "gen_b6.close()\n",
    "gen_cast.close()\n",
    "\n",
    "if save:\n",
    "    with h5py.File(datadir+'data_noGC'+ident+'.h5','a') as f:\n",
    "        for key in x.keys():\n",
    "            f.create_dataset('x_'+key, data=x[key])"
   ]
  },
  {
   "cell_type": "code",
   "execution_count": 17,
   "metadata": {
    "scrolled": false
   },
   "outputs": [
    {
     "data": {
      "image/png": "[encoded data removed]",
      "text/plain": [
       "<Figure size 576x576 with 1 Axes>"
      ]
     },
     "metadata": {
      "needs_background": "light"
     },
     "output_type": "display_data"
    }
   ],
   "source": [
    "fig = plt.figure(figsize=(8,8))\n",
    "ax = fig.add_subplot()\n",
    "\n",
    "ax.scatter(y['train_b6'],y['train_cast'], s=4)\n",
    "plt.title('Summit-centered accessibility')\n",
    "ax.set_xlabel('b6 accessibility')\n",
    "ax.set_ylabel('cast accessibility')\n",
    "plt.show()"
   ]
  },
  {
   "cell_type": "markdown",
   "metadata": {},
   "source": [
    "## Perform GC regression"
   ]
  },
  {
   "cell_type": "code",
   "execution_count": 19,
   "metadata": {},
   "outputs": [],
   "source": [
    "x = dict()\n",
    "y = dict()\n",
    "with h5py.File(datadir+'data_noGC'+ident+'.h5','r') as f:\n",
    "    for n in name:\n",
    "        for allele in ['b6','cast']:\n",
    "            x[n+'_'+allele] = f['x_'+n+'_'+allele][()]\n",
    "            y[n+'_'+allele] = f['y_'+n+'_'+allele][()]\n",
    "            if n!='test':\n",
    "                x[n+'_'+allele+'_unegs'] = f['x_'+n+'_'+allele+'_unegs'][()]\n",
    "        if n!='test':\n",
    "            y[n+'_unegs'] = f['y_'+n+'_unegs'][()]"
   ]
  },
  {
   "cell_type": "code",
   "execution_count": 25,
   "metadata": {},
   "outputs": [
    {
     "data": {
      "image/png": "[encoded data removed]",
      "text/plain": [
       "<Figure size 720x360 with 1 Axes>"
      ]
     },
     "metadata": {
      "needs_background": "light"
     },
     "output_type": "display_data"
    }
   ],
   "source": [
    "# Visualize the GC-count relationship\n",
    "fig = plt.figure(figsize=(10,5))\n",
    "ax = fig.add_subplot()\n",
    "\n",
    "temp_x = np.vstack([x[k] for k in x.keys() if 'unegs' not in k])\n",
    "temp_y = np.concatenate([y[k] for k in y.keys() if 'unegs' not in k])\n",
    "GC = np.sum(temp_x[:,(seqlen//2-seqlen1//2):(seqlen//2+seqlen1//2),:], axis=1)\n",
    "GC = GC[:,1]+GC[:,2]\n",
    "ax.scatter(GC/seqlen*100, temp_y, s=4)\n",
    "coef = GCregress(temp_x[:,(seqlen//2-seqlen1//2):(seqlen//2+seqlen1//2),:], temp_y, method='linear')    # limit GC counting to only the window where reads are counted\n",
    "temp_y -= coef*GC\n",
    "ax.scatter(GC/seqlen*100, temp_y, s=4)\n",
    "ax.set_xlabel('GC content (%)')\n",
    "ax.set_ylabel('log accessibility')\n",
    "plt.show()"
   ]
  },
  {
   "cell_type": "code",
   "execution_count": 26,
   "metadata": {},
   "outputs": [],
   "source": [
    "# Regress out GC content\n",
    "method = 'linear'\n",
    "temp_x = np.vstack([x[k] for k in x.keys() if 'unegs' not in k])\n",
    "temp_y = np.concatenate([y[k] for k in y.keys() if 'unegs' not in k])\n",
    "coef = GCregress(temp_x[:,(seqlen//2-seqlen1//2):(seqlen//2+seqlen1//2),:], temp_y, method)    # limit GC counting to only the window where reads are counted\n",
    "\n",
    "\n",
    "cnt=0\n",
    "for n in name:\n",
    "    for allele in ['b6','cast']:\n",
    "        GC = np.sum(x[n+'_'+allele][:,(seqlen//2-seqlen1//2):(seqlen//2+seqlen1//2),:], axis=1)\n",
    "        GC = GC[:,1]+GC[:,2]\n",
    "        if method=='linear':\n",
    "            y[n+'_'+allele] -= coef*GC\n",
    "        elif method=='spline':\n",
    "            y[n+'_'+allele] -= coef[cnt:cnt+len(GC)]*GC\n",
    "            cnt += len(GC)"
   ]
  },
  {
   "cell_type": "code",
   "execution_count": 27,
   "metadata": {},
   "outputs": [
    {
     "data": {
      "image/png": "[encoded data removed]",
      "text/plain": [
       "<Figure size 576x576 with 1 Axes>"
      ]
     },
     "metadata": {
      "needs_background": "light"
     },
     "output_type": "display_data"
    }
   ],
   "source": [
    "fig = plt.figure(figsize=(8,8))\n",
    "ax = fig.add_subplot()\n",
    "\n",
    "ax.scatter(y['train_b6'], y['train_cast'],\n",
    "            vmax = 2, vmin = -2, s = 4)\n",
    "plt.title('Summit-centered accessibility')\n",
    "ax.set_xlabel('residual b6 accessibility')\n",
    "ax.set_ylabel('residual cast accessibility')\n",
    "plt.show()"
   ]
  },
  {
   "cell_type": "code",
   "execution_count": 28,
   "metadata": {},
   "outputs": [
    {
     "data": {
      "text/plain": [
       "array([-5.])"
      ]
     },
     "execution_count": 28,
     "metadata": {},
     "output_type": "execute_result"
    }
   ],
   "source": [
    "# Do uneg count adjustment based on range of GC corrected values\n",
    "np.unique(y['train_b6_unegs'])\n",
    "# y['train_unegs'] -= 5\n",
    "# y['val_unegs'] -= 5"
   ]
  },
  {
   "cell_type": "code",
   "execution_count": 34,
   "metadata": {},
   "outputs": [
    {
     "data": {
      "text/plain": [
       "False"
      ]
     },
     "execution_count": 34,
     "metadata": {},
     "output_type": "execute_result"
    }
   ],
   "source": [
    "np.all(x['val_b6_unegs']==x['val_cast_unegs'])"
   ]
  },
  {
   "cell_type": "code",
   "execution_count": 31,
   "metadata": {},
   "outputs": [],
   "source": [
    "if save:\n",
    "    with h5py.File(datadir+'data'+ident+'.h5','w') as f:\n",
    "        for key in x.keys():\n",
    "            f.create_dataset('x_'+key, data=x[key])\n",
    "        for key in y.keys():\n",
    "            f.create_dataset('y_'+key, data=y[key])"
   ]
  }
 ],
 "metadata": {
  "interpreter": {
   "hash": "0f07b599dba35ea3e3431fe483080f9a2b540e1c33071a57a1e300447d2107f4"
  },
  "kernelspec": {
   "display_name": "Python 3 (ipykernel)",
   "language": "python",
   "name": "python3"
  },
  "language_info": {
   "codemirror_mode": {
    "name": "ipython",
    "version": 3
   },
   "file_extension": ".py",
   "mimetype": "text/x-python",
   "name": "python",
   "nbconvert_exporter": "python",
   "pygments_lexer": "ipython3",
   "version": "3.8.3"
  }
 },
 "nbformat": 4,
 "nbformat_minor": 2
}
