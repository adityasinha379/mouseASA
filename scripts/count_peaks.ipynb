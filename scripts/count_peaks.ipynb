{
 "cells": [
  {
   "cell_type": "code",
   "execution_count": 1,
   "id": "1893a4b7",
   "metadata": {},
   "outputs": [],
   "source": [
    "# General import, names of train, test, val\n",
    "%load_ext autoreload\n",
    "%autoreload 2\n",
    "import numpy as np\n",
    "import pysam\n",
    "from tqdm.notebook import tqdm\n",
    "import h5py\n",
    "import pandas as pd\n",
    "import matplotlib.pyplot as plt\n",
    "rng = np.random.default_rng(seed=0)\n",
    "\n",
    "basedir = '/data/leslie/sunge/'\n",
    "aligndir = f'{basedir}f1_hybrid/EpiSC_ATAC_bam/'\n",
    "ctype = 'EpiSC'\n",
    "strain = 'molf'\n",
    "b6_strain = 'b6_molf'\n",
    "ident = ''     # ident is '' for you or whatever label you want to use for the h5 data you've generated\n",
    "\n",
    "datadir = f'{basedir}f1_ASA/{strain}/{ctype}/data/'\n",
    "chrom_train = [1,2,4,6,7,8,9,11,12,13,14,16,17,18,19]\n",
    "chrom_val = [3,5]\n",
    "chrom_test = [10,15]\n",
    "chroms = [chrom_train, chrom_val, chrom_test]\n",
    "name = ['train', 'val', 'test']\n",
    "\n",
    "reps = ['r1','r2','r3','r4']\n",
    "seqlen = 300                         # region around summit for sequence\n",
    "seqlen1 = 150                        # region around summit for coverage\n",
    "save = True                          # failsafe to prevent unwanted overwriting"
   ]
  },
  {
   "cell_type": "code",
   "execution_count": 38,
   "id": "ddff6b08",
   "metadata": {},
   "outputs": [],
   "source": [
    "def plot_peaks(peakfile):\n",
    "    peaks = pd.read_csv(peakfile, sep='\\t', header=None)\n",
    "    print(peaks.shape)\n",
    "\n",
    "    idr_thresh = 0.05\n",
    "    idx = np.where(peaks.iloc[:, 11] >= -np.log10(idr_thresh))[0]\n",
    "    sig_peaks = peaks.loc[idx].reset_index(drop=True)\n",
    "    print(sig_peaks.shape)\n",
    "\n",
    "    counts, bins = np.histogram(sig_peaks.loc[:, 11])\n",
    "    plt.stairs(counts, bins)"
   ]
  },
  {
   "cell_type": "code",
   "execution_count": 40,
   "id": "5e59dab1",
   "metadata": {},
   "outputs": [
    {
     "name": "stdout",
     "output_type": "stream",
     "text": [
      "(184889, 20)\n",
      "(81905, 20)\n",
      "(67123, 20)\n",
      "(36099, 20)\n"
     ]
    },
    {
     "data": {
      "image/png": "[encoded data removed]",
      "text/plain": [
       "<Figure size 640x480 with 1 Axes>"
      ]
     },
     "metadata": {},
     "output_type": "display_data"
    }
   ],
   "source": [
    "peakfile1 = f'{aligndir}b6_cast/peaks/peakatlas.bed'\n",
    "peakfile2 = \"/data/leslie/sunge/pseudodiploid/cd8/peaks/peakatlas.bed\"\n",
    "\n",
    "plot_peaks(peakfile1)\n",
    "plot_peaks(peakfile2)"
   ]
  }
 ],
 "metadata": {
  "kernelspec": {
   "display_name": "Python 3 (ipykernel)",
   "language": "python",
   "name": "python3"
  },
  "language_info": {
   "codemirror_mode": {
    "name": "ipython",
    "version": 3
   },
   "file_extension": ".py",
   "mimetype": "text/x-python",
   "name": "python",
   "nbconvert_exporter": "python",
   "pygments_lexer": "ipython3",
   "version": "3.10.9"
  }
 },
 "nbformat": 4,
 "nbformat_minor": 5
}
