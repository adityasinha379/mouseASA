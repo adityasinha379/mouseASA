{
 "cells": [
  {
   "cell_type": "code",
   "execution_count": 1,
   "id": "a43a69c9",
   "metadata": {},
   "outputs": [],
   "source": [
    "%load_ext autoreload\n",
    "%autoreload 2"
   ]
  },
  {
   "cell_type": "code",
   "execution_count": 2,
   "id": "98af9925",
   "metadata": {},
   "outputs": [],
   "source": [
    "import numpy as np"
   ]
  },
  {
   "cell_type": "code",
   "execution_count": 3,
   "id": "462b4c81",
   "metadata": {},
   "outputs": [
    {
     "name": "stdout",
     "output_type": "stream",
     "text": [
      "[3, 5] 8\n",
      "[3, 5, 9] 17\n",
      "[3, 5, 9, 17] 34\n",
      "[3, 5, 9, 17, 33] 67\n",
      "[3, 5, 9, 17, 33, 65] 132\n",
      "[3, 5, 9, 17, 33, 65, 129] 261\n",
      "[3, 5, 9, 17, 33, 65, 129, 257] 518\n",
      "[3, 5, 9, 17, 33, 65, 129, 257, 513] 1031\n",
      "[3, 5, 9, 17, 33, 65, 129, 257, 513, 1025] 2056\n"
     ]
    }
   ],
   "source": [
    "n=[3]\n",
    "for i in range(9):\n",
    "    n.append(2*n[-1]-1)\n",
    "    print(n, sum(n))"
   ]
  },
  {
   "cell_type": "code",
   "execution_count": 12,
   "id": "07b3eef9",
   "metadata": {},
   "outputs": [],
   "source": [
    "from chrombpnet.model import ChromBPNet\n",
    "import torch\n",
    "DEVICE = 'cuda' if torch.cuda.is_available() else 'cpu'\n",
    "\n",
    "seqlen = 300\n",
    "outlen = 150\n",
    "x = torch.ones((2,4,seqlen), dtype=torch.float32).to(DEVICE)\n",
    "\n",
    "model = ChromBPNet(8,15,13,6,seqlen,outlen)\n",
    "model.to(DEVICE)\n",
    "\n",
    "out = list(model(x))\n",
    "for i in range(len(out)):\n",
    "    out[i] = out[i].detach().cpu().numpy()"
   ]
  },
  {
   "cell_type": "code",
   "execution_count": 100,
   "id": "046f2eab",
   "metadata": {},
   "outputs": [
    {
     "data": {
      "image/png": "[encoded data removed]",
      "text/plain": [
       "<Figure size 432x288 with 1 Axes>"
      ]
     },
     "metadata": {
      "needs_background": "light"
     },
     "output_type": "display_data"
    }
   ],
   "source": [
    "import matplotlib.pyplot as plt\n",
    "# fig, ax = plt.subplots(2,1,figsize=(10,8))\n",
    "plt.plot(out[0][0])\n",
    "plt.show()"
   ]
  }
 ],
 "metadata": {
  "kernelspec": {
   "display_name": "Python 3 (ipykernel)",
   "language": "python",
   "name": "python3"
  },
  "language_info": {
   "codemirror_mode": {
    "name": "ipython",
    "version": 3
   },
   "file_extension": ".py",
   "mimetype": "text/x-python",
   "name": "python",
   "nbconvert_exporter": "python",
   "pygments_lexer": "ipython3",
   "version": "3.8.3"
  }
 },
 "nbformat": 4,
 "nbformat_minor": 5
}
